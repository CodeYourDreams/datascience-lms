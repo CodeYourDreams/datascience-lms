{
 "cells": [
  {
   "cell_type": "markdown",
   "id": "a9d62be5",
   "metadata": {
    "slideshow": {
     "slide_type": "slide"
    }
   },
   "source": [
    "<center><img src='images/banner_ds.png' style='width:1000px; float: center; margin: 0px 30px 15px 0px'></center>\n",
    "\n",
    "# Welcome! 🎉\n",
    "# Data Science  Curriculum \n",
    "\n",
    "\n",
    "\n"
   ]
  },
  {
   "cell_type": "markdown",
   "id": "1188afd8",
   "metadata": {
    "slideshow": {
     "slide_type": "slide"
    }
   },
   "source": [
    "# 🚀 Today's agenda\n",
    "\n",
    "- Introducing each other! \n",
    "- Class expectations \n",
    "- Go over the curriculum \n",
    "- What is a data scientist? "
   ]
  },
  {
   "cell_type": "markdown",
   "id": "32003674",
   "metadata": {
    "slideshow": {
     "slide_type": "slide"
    }
   },
   "source": [
    "<img src='images/girl_codes.png' style='height:350px; float: left; margin: 0px 30px 15px 0px'>\n",
    "\n",
    "# Tell me about yourself!\n",
    "\n",
    "- Name (how do you like to be called?)\n",
    "- Where's home for you?\n",
    "- What did you study/want to study?\n",
    "- Why do you want to learn data science? \n",
    "- Fun fact"
   ]
  },
  {
   "cell_type": "markdown",
   "id": "16ab2104",
   "metadata": {
    "slideshow": {
     "slide_type": "slide"
    }
   },
   "source": [
    "# So... what is data science? 🤔\n"
   ]
  },
  {
   "cell_type": "markdown",
   "id": "5fc5fcdf",
   "metadata": {
    "slideshow": {
     "slide_type": "slide"
    }
   },
   "source": [
    "# So... what is data ~~science~~? 🤔\n"
   ]
  },
  {
   "cell_type": "markdown",
   "id": "13383daa",
   "metadata": {
    "slideshow": {
     "slide_type": "slide"
    }
   },
   "source": [
    "<center><img src='images/scribes.png' style='height:550px;'></center>"
   ]
  },
  {
   "cell_type": "markdown",
   "id": "5c427503",
   "metadata": {
    "slideshow": {
     "slide_type": "fragment"
    }
   },
   "source": [
    "- I introduce you to the **scribes**. "
   ]
  },
  {
   "cell_type": "markdown",
   "id": "07272434",
   "metadata": {
    "slideshow": {
     "slide_type": "fragment"
    }
   },
   "source": [
    "- SIn ancient times, scribes held immense power and responsibility as some of the few who could read and write, making them essential for recording knowledge, laws, and history."
   ]
  },
  {
   "cell_type": "markdown",
   "id": "70245927",
   "metadata": {
    "slideshow": {
     "slide_type": "slide"
    }
   },
   "source": [
    "<center><img src='images/Data-never-sleeps.png' style='height:700px;'></center>\n",
    "This is how much data was produced every minute in 2024. Data from <a href='https://www.domo.com/learn/infographic/data-never-sleeps-12'>DOMO</a>."
   ]
  },
  {
   "cell_type": "markdown",
   "id": "832bdf88",
   "metadata": {
    "slideshow": {
     "slide_type": "fragment"
    }
   },
   "source": [
    "- Data literacy is the new literacy. Those who are able to read, write, and communicate data are modern scribes. "
   ]
  },
  {
   "cell_type": "markdown",
   "id": "a5dea4dd",
   "metadata": {
    "slideshow": {
     "slide_type": "fragment"
    }
   },
   "source": [
    "- People with data literacy skills can find better jobs, be more  informed citizens, and make better decisions."
   ]
  },
  {
   "cell_type": "markdown",
   "id": "b9d97ff1",
   "metadata": {
    "slideshow": {
     "slide_type": "slide"
    }
   },
   "source": [
    "# 🤔 What does a data scientist do?"
   ]
  },
  {
   "cell_type": "markdown",
   "id": "9669393c",
   "metadata": {
    "slideshow": {
     "slide_type": "fragment"
    }
   },
   "source": [
    "<center><img src='images/dsmeme.png' style='height:400px;'></center> \n",
    "\n",
    "• Easy answer: EVERYTHING!\n",
    "    \n",
    "• Long answer: It depends on the job\n",
    "\n"
   ]
  },
  {
   "cell_type": "markdown",
   "id": "d9d9ee50",
   "metadata": {
    "slideshow": {
     "slide_type": "slide"
    }
   },
   "source": [
    "<hr>\n",
    "\n",
    "<center>🏆 Winning formula:</center><br>\n",
    "\n",
    "<center><b>Mathematics + Coding + Communication + Domain Expertise</b></center>\n",
    "\n",
    "<hr>"
   ]
  },
  {
   "cell_type": "markdown",
   "id": "a3d66637",
   "metadata": {
    "slideshow": {
     "slide_type": "slide"
    }
   },
   "source": [
    "# 🤔 What does a data scientist do?\n",
    "\n",
    "<br>\n",
    "\n",
    "### Example: https://pudding.cool/2024/11/love-songs/\n",
    "\n",
    "### Example: https://twitter.com/nyt_first_said\n",
    "\n",
    "### Example: https://coronavirus.jhu.edu/map.html\n",
    "\n",
    "### Example: https://eodashboard.org/?poi=W4-N2&indicator=N2"
   ]
  },
  {
   "cell_type": "markdown",
   "id": "7fd8dcb6",
   "metadata": {
    "slideshow": {
     "slide_type": "fragment"
    }
   },
   "source": [
    "⚠️ Data is the new oil, we should take advantage of it!"
   ]
  },
  {
   "cell_type": "markdown",
   "id": "f27dde80",
   "metadata": {
    "slideshow": {
     "slide_type": "slide"
    }
   },
   "source": [
    "# 🤔 Why be a data scientist?"
   ]
  },
  {
   "cell_type": "markdown",
   "id": "847017cb",
   "metadata": {
    "slideshow": {
     "slide_type": "fragment"
    }
   },
   "source": [
    "- It sounds cool 😎\n",
    "- Very good salary $$$ and many job opportunities 🤑\n",
    "- Ease of switching industries 🦄\n",
    "- Learn many skills! 🔥"
   ]
  },
  {
   "cell_type": "markdown",
   "id": "1351e5aa",
   "metadata": {
    "slideshow": {
     "slide_type": "slide"
    }
   },
   "source": [
    "<center><img src='images/bobbie.png' style='height:400px;'></center> "
   ]
  },
  {
   "cell_type": "markdown",
   "id": "52a5e33a",
   "metadata": {
    "slideshow": {
     "slide_type": "fragment"
    }
   },
   "source": [
    "A data scientist carries its toolbox to solve data problems!\n",
    "\n",
    "By the end of this program, you will have your very own toolbox too!"
   ]
  },
  {
   "cell_type": "markdown",
   "id": "1f6feab7",
   "metadata": {
    "slideshow": {
     "slide_type": "fragment"
    }
   },
   "source": [
    "# What would you like to learn during this program?"
   ]
  }
 ],
 "metadata": {
  "celltoolbar": "Slideshow",
  "kernelspec": {
   "display_name": "Python 3 (ipykernel)",
   "language": "python",
   "name": "python3"
  },
  "language_info": {
   "codemirror_mode": {
    "name": "ipython",
    "version": 3
   },
   "file_extension": ".py",
   "mimetype": "text/x-python",
   "name": "python",
   "nbconvert_exporter": "python",
   "pygments_lexer": "ipython3",
   "version": "3.10.13"
  }
 },
 "nbformat": 4,
 "nbformat_minor": 5
}
