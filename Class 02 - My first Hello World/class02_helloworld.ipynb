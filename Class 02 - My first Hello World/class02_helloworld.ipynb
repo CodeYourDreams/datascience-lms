{
 "cells": [
  {
   "cell_type": "markdown",
   "id": "843e46f7",
   "metadata": {
    "slideshow": {
     "slide_type": "slide"
    }
   },
   "source": [
    "<center><img src='img/cdy.png' style='width:500px; float: left; margin: 0px 30px 15px 0px'></center>\n",
    "\n",
    "# My first `Hello World`\n",
    "## Class 2 - Data Science  Curriculum \n",
    "\n"
   ]
  },
  {
   "cell_type": "markdown",
   "id": "82476939",
   "metadata": {
    "slideshow": {
     "slide_type": "slide"
    }
   },
   "source": [
    "# 🚀 Today's agenda\n",
    "\n",
    "- What is an algorithm?\n",
    "- What is coding? \n",
    "- What is Python?\n",
    "- Technical tools: Python, Jupyter Notebooks, Google Colab\n",
    "- `Hello World`"
   ]
  },
  {
   "cell_type": "markdown",
   "id": "cb08d92e",
   "metadata": {
    "slideshow": {
     "slide_type": "slide"
    }
   },
   "source": [
    "# What is an algorithm?"
   ]
  },
  {
   "cell_type": "markdown",
   "id": "aad04c10",
   "metadata": {
    "slideshow": {
     "slide_type": "slide"
    }
   },
   "source": [
    "# How do you prepare a peanut butter and jelly sandwich?\n",
    "\n",
    "<br>\n",
    "<center><img src='img/pbj.png' style='height:300px; float: center; margin: 0px 30px 15px 0px'></center>"
   ]
  },
  {
   "cell_type": "markdown",
   "id": "80db3929",
   "metadata": {
    "slideshow": {
     "slide_type": "fragment"
    }
   },
   "source": [
    "Instructions:\n",
    "- 🥪 Gather ingredients: 2 slices of bread, peanut butter, and jelly (grape or your favorite).\n",
    "\n",
    "- 🍞 Lay out the bread slices on a clean surface.\n",
    "\n",
    "- 🥜 Spread peanut butter on one slice using a knife.\n",
    "\n",
    "- 🍇 Spread jelly on the other slice.\n",
    "\n",
    "- ✋ Press the slices together, fillings facing each other.\n",
    "\n",
    "- 🔪 Optional: Cut sandwich in half (diagonally or vertically).\n",
    "\n",
    "- 🍽️ Serve and enjoy!"
   ]
  },
  {
   "cell_type": "markdown",
   "id": "7d5c3881",
   "metadata": {
    "slideshow": {
     "slide_type": "slide"
    }
   },
   "source": [
    "# An algorithm is a set of instructions "
   ]
  },
  {
   "cell_type": "markdown",
   "id": "02f99a46",
   "metadata": {
    "slideshow": {
     "slide_type": "fragment"
    }
   },
   "source": [
    "## 🤔 What other algorithms can you think of? "
   ]
  },
  {
   "cell_type": "markdown",
   "id": "1ee48428",
   "metadata": {
    "slideshow": {
     "slide_type": "slide"
    }
   },
   "source": [
    "# What is a `computer` algorithm?"
   ]
  },
  {
   "cell_type": "markdown",
   "id": "3ecdd6f6",
   "metadata": {
    "slideshow": {
     "slide_type": "fragment"
    }
   },
   "source": [
    "A set of instructions that enable a computer program to generate a result "
   ]
  },
  {
   "cell_type": "markdown",
   "id": "8ca2aa37",
   "metadata": {
    "slideshow": {
     "slide_type": "fragment"
    }
   },
   "source": [
    "<center><img src='img/computer_algorithm.png' style='height:300px; float: center; margin: 0px 30px 15px 0px'></center>"
   ]
  },
  {
   "cell_type": "markdown",
   "id": "e5c83b44",
   "metadata": {
    "slideshow": {
     "slide_type": "slide"
    }
   },
   "source": [
    "# Example of a `computer` algorithm"
   ]
  },
  {
   "cell_type": "markdown",
   "id": "5074b0b4",
   "metadata": {
    "slideshow": {
     "slide_type": "fragment"
    }
   },
   "source": [
    "<center><img src='img/ca_examples.png' style='height:450px; float: center; margin: 0px 30px 15px 0px'></center>"
   ]
  },
  {
   "cell_type": "markdown",
   "id": "58904e22",
   "metadata": {
    "slideshow": {
     "slide_type": "fragment"
    }
   },
   "source": [
    "## 🤔 Can you think of more examples?"
   ]
  },
  {
   "cell_type": "markdown",
   "id": "1a7d8761",
   "metadata": {
    "slideshow": {
     "slide_type": "fragment"
    }
   },
   "source": [
    "Banks, dating apps, cellphones, etc."
   ]
  },
  {
   "cell_type": "markdown",
   "id": "5a508a57",
   "metadata": {
    "slideshow": {
     "slide_type": "slide"
    }
   },
   "source": [
    "# What is coding?"
   ]
  },
  {
   "cell_type": "markdown",
   "id": "964e51bd",
   "metadata": {
    "slideshow": {
     "slide_type": "fragment"
    }
   },
   "source": [
    "<center><img src='img/cat.gif' style='height:350px; float: center; margin: 0px 30px 15px 0px'></center>"
   ]
  },
  {
   "cell_type": "markdown",
   "id": "3e2a103d",
   "metadata": {
    "slideshow": {
     "slide_type": "fragment"
    }
   },
   "source": [
    "- It's how we communicate with computers to tell them to run algorithms"
   ]
  },
  {
   "cell_type": "markdown",
   "id": "76cfe3e5",
   "metadata": {
    "slideshow": {
     "slide_type": "fragment"
    }
   },
   "source": [
    "- **Anyone can code!** Whatever a computer can do, you can also do it! (A computer just does it faster)"
   ]
  },
  {
   "cell_type": "markdown",
   "id": "006ba21c",
   "metadata": {
    "slideshow": {
     "slide_type": "slide"
    }
   },
   "source": [
    "## In order to be able to communicate, we need to learn languages!\n",
    "\n",
    "<br>\n",
    "<center><img src='img/lang.png' style='height:700px; float: center; margin: 0px 30px 15px 0px'></center>"
   ]
  },
  {
   "cell_type": "markdown",
   "id": "b2424ea9",
   "metadata": {
    "slideshow": {
     "slide_type": "slide"
    }
   },
   "source": [
    "## Tips to learn a language:"
   ]
  },
  {
   "cell_type": "markdown",
   "id": "a18adc4d",
   "metadata": {
    "slideshow": {
     "slide_type": "fragment"
    }
   },
   "source": [
    "- Don't be embarrassed to make mistakes"
   ]
  },
  {
   "cell_type": "markdown",
   "id": "922db012",
   "metadata": {
    "slideshow": {
     "slide_type": "fragment"
    }
   },
   "source": [
    "- Practice the language whenever you can"
   ]
  },
  {
   "cell_type": "markdown",
   "id": "48288860",
   "metadata": {
    "slideshow": {
     "slide_type": "fragment"
    }
   },
   "source": [
    "- Think in your target language"
   ]
  },
  {
   "cell_type": "markdown",
   "id": "c0910fce",
   "metadata": {
    "slideshow": {
     "slide_type": "fragment"
    }
   },
   "source": [
    "- Be patient, but persistent"
   ]
  },
  {
   "cell_type": "markdown",
   "id": "997ca8f6",
   "metadata": {
    "slideshow": {
     "slide_type": "fragment"
    }
   },
   "source": [
    "- Immerse yourself in the language"
   ]
  },
  {
   "cell_type": "markdown",
   "id": "35c9975e",
   "metadata": {
    "slideshow": {
     "slide_type": "fragment"
    }
   },
   "source": [
    "## Same applies to programming languages!"
   ]
  },
  {
   "cell_type": "markdown",
   "id": "aa3f2b28",
   "metadata": {
    "slideshow": {
     "slide_type": "slide"
    }
   },
   "source": [
    "<center><img src='img/prog_langs2024.png' style='height:800px; float: center; margin: 0px 30px 15px 0px'></center>"
   ]
  },
  {
   "cell_type": "markdown",
   "id": "7f48b631",
   "metadata": {
    "slideshow": {
     "slide_type": "slide"
    }
   },
   "source": [
    "# 🐍 Python\n",
    "\n",
    "<center><img src='img/python.png' style='height:100px; float: center; margin: 0px 30px 15px 0px'></center>\n",
    "\n",
    "- Python is a programming language known for its readability and versatility\n",
    "\n",
    "\n",
    "- Widely used for machine learning algorithms\n",
    "\n",
    "\n",
    "- Open-source: type of software where the source code is made available to the public, allowing anyone to view, use, modify, and distribute it. \n"
   ]
  },
  {
   "cell_type": "markdown",
   "id": "72ba187d",
   "metadata": {
    "slideshow": {
     "slide_type": "slide"
    }
   },
   "source": [
    "# How to install Python?\n",
    "\n",
    "Anaconda distribution: [Link](https://www.anaconda.com/download/success)"
   ]
  },
  {
   "cell_type": "markdown",
   "id": "262cb5e9",
   "metadata": {
    "slideshow": {
     "slide_type": "slide"
    }
   },
   "source": [
    "# File types: `.py` vs `.ipynb`\n",
    "\n",
    "- `.ipynb`: Jupyter Notebook file, you need to have installed Jupyter Notebooks. Great for presentations and reporting.\n",
    "- `.py`: Script file. They run in the terminal. Can be used for production. You can create them in a code editor (I recommend Visual Studio Code or Cursor)."
   ]
  },
  {
   "cell_type": "markdown",
   "id": "cddcf901",
   "metadata": {
    "slideshow": {
     "slide_type": "slide"
    }
   },
   "source": [
    "- Step 1: Open `Anaconda Power Shell`\n",
    "- Step 2 (optional): Type `python --version`\n",
    "- Step 3: Type `jupyter notebook`"
   ]
  },
  {
   "cell_type": "markdown",
   "id": "d7c97442",
   "metadata": {
    "slideshow": {
     "slide_type": "slide"
    }
   },
   "source": [
    "# 😱 What if my computer can't open Python?\n",
    "\n",
    "\n",
    "\n"
   ]
  },
  {
   "cell_type": "markdown",
   "id": "2224c936",
   "metadata": {
    "slideshow": {
     "slide_type": "fragment"
    }
   },
   "source": [
    "Use Google Colab: https://colab.research.google.com/"
   ]
  },
  {
   "cell_type": "markdown",
   "id": "8ebc1d25",
   "metadata": {
    "slideshow": {
     "slide_type": "slide"
    }
   },
   "source": [
    "# How do you say \"hello\" in our language?"
   ]
  },
  {
   "cell_type": "markdown",
   "id": "7e735039",
   "metadata": {
    "slideshow": {
     "slide_type": "slide"
    }
   },
   "source": [
    "# In coding: `Hello World`"
   ]
  },
  {
   "cell_type": "markdown",
   "id": "44aa29f4",
   "metadata": {
    "slideshow": {
     "slide_type": "slide"
    }
   },
   "source": [
    "# ⏪ Today's recap\n",
    "\n",
    "- What is an algorithm?\n",
    "- What is coding? \n",
    "- What is Python?\n",
    "- Technical tools: Python, Jupyter Notebooks, Google Colab\n",
    "- `Hello World`"
   ]
  },
  {
   "cell_type": "markdown",
   "id": "c3c47662",
   "metadata": {
    "slideshow": {
     "slide_type": "slide"
    }
   },
   "source": [
    "\n",
    "# Next class: Python: Variables and Datatypes"
   ]
  }
 ],
 "metadata": {
  "celltoolbar": "Slideshow",
  "kernelspec": {
   "display_name": "Python 3 (ipykernel)",
   "language": "python",
   "name": "python3"
  },
  "language_info": {
   "codemirror_mode": {
    "name": "ipython",
    "version": 3
   },
   "file_extension": ".py",
   "mimetype": "text/x-python",
   "name": "python",
   "nbconvert_exporter": "python",
   "pygments_lexer": "ipython3",
   "version": "3.10.13"
  }
 },
 "nbformat": 4,
 "nbformat_minor": 5
}
