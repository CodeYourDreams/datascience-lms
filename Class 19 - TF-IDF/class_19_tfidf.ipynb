{
 "cells": [
  {
   "cell_type": "markdown",
   "id": "843e46f7",
   "metadata": {
    "slideshow": {
     "slide_type": "slide"
    }
   },
   "source": [
    "<center><img src='img/cdy.png' style='width:500px; float: left; margin: 0px 30px 15px 0px'></center>\n",
    "\n",
    "# TF-IDF\n",
    "## Class 19 - Data Science Curriculum \n",
    "\n",
    "\n"
   ]
  },
  {
   "cell_type": "markdown",
   "id": "48500da2",
   "metadata": {
    "slideshow": {
     "slide_type": "slide"
    }
   },
   "source": [
    "# ⏪ Recap last class\n",
    "\n",
    "- Text pre-processing\n",
    "- Word Cloud"
   ]
  },
  {
   "cell_type": "markdown",
   "id": "82476939",
   "metadata": {
    "slideshow": {
     "slide_type": "slide"
    }
   },
   "source": [
    "# 🚀 Today's agenda\n",
    "\n",
    "- TF-IDF"
   ]
  },
  {
   "cell_type": "markdown",
   "id": "aaee16fd",
   "metadata": {
    "slideshow": {
     "slide_type": "slide"
    }
   },
   "source": [
    "<center><img src='img/pipeline.png' style='width:1500px; margin: 0px 30px 15px 0px'></center>"
   ]
  },
  {
   "cell_type": "markdown",
   "id": "63a8759b",
   "metadata": {
    "slideshow": {
     "slide_type": "slide"
    }
   },
   "source": [
    "### Representation of data in numerical form\n",
    "\n",
    "**Example: Images**\n",
    "\n",
    "<center><img src='img/komp2.jpeg'>\n",
    "<small>Image credit: VideoNet</small></center>\n",
    "\n",
    "- An image is represented on a computer in the form of a matrix where each $m[i,j]$ represents pixel $i$,$j$ of the image\n",
    "\n",
    "- Similarly, a video is a collection of frames, where each frame is an image. Therefore, any video can be represented as a collection of matrices\n",
    "\n",
    "- (Un)fortunately, representing text numerically is not so simple"
   ]
  },
  {
   "cell_type": "markdown",
   "id": "480b0484",
   "metadata": {
    "slideshow": {
     "slide_type": "slide"
    }
   },
   "source": [
    "## 🤔 The issue at hand...\n",
    "\n",
    "<br>\n",
    "<center><img src='img/gigo.png' style='height:350px;'>\n",
    "<small>Image credit: R-Bloggers</small></center>"
   ]
  },
  {
   "cell_type": "markdown",
   "id": "3130c953",
   "metadata": {
    "slideshow": {
     "slide_type": "slide"
    }
   },
   "source": [
    "# Let's do some text pre-processing"
   ]
  },
  {
   "cell_type": "code",
   "execution_count": 1,
   "id": "27a951e4",
   "metadata": {
    "slideshow": {
     "slide_type": "slide"
    }
   },
   "outputs": [
    {
     "data": {
      "text/html": [
       "<div>\n",
       "<style scoped>\n",
       "    .dataframe tbody tr th:only-of-type {\n",
       "        vertical-align: middle;\n",
       "    }\n",
       "\n",
       "    .dataframe tbody tr th {\n",
       "        vertical-align: top;\n",
       "    }\n",
       "\n",
       "    .dataframe thead th {\n",
       "        text-align: right;\n",
       "    }\n",
       "</style>\n",
       "<table border=\"1\" class=\"dataframe\">\n",
       "  <thead>\n",
       "    <tr style=\"text-align: right;\">\n",
       "      <th></th>\n",
       "      <th>description</th>\n",
       "    </tr>\n",
       "    <tr>\n",
       "      <th>princess</th>\n",
       "      <th></th>\n",
       "    </tr>\n",
       "  </thead>\n",
       "  <tbody>\n",
       "    <tr>\n",
       "      <th>Snow White</th>\n",
       "      <td>Snow White is a princess of great beauty, whic...</td>\n",
       "    </tr>\n",
       "    <tr>\n",
       "      <th>Cinderella</th>\n",
       "      <td>Cinderella is a young woman subjected to the a...</td>\n",
       "    </tr>\n",
       "    <tr>\n",
       "      <th>Aurora</th>\n",
       "      <td>Princess Aurora is the only daughter of King S...</td>\n",
       "    </tr>\n",
       "    <tr>\n",
       "      <th>Ariel</th>\n",
       "      <td>In the 1989 film, Ariel is the youngest of Kin...</td>\n",
       "    </tr>\n",
       "    <tr>\n",
       "      <th>Belle</th>\n",
       "      <td>Belle lives in a small French village with her...</td>\n",
       "    </tr>\n",
       "    <tr>\n",
       "      <th>Jasmine</th>\n",
       "      <td>A modern Disney heroine: independent, intellig...</td>\n",
       "    </tr>\n",
       "    <tr>\n",
       "      <th>Pocahontas</th>\n",
       "      <td>Pocahontas is loosely based on the real-life f...</td>\n",
       "    </tr>\n",
       "    <tr>\n",
       "      <th>Mulan</th>\n",
       "      <td>Mulan breaks away from traditional Disney prin...</td>\n",
       "    </tr>\n",
       "    <tr>\n",
       "      <th>Tiana</th>\n",
       "      <td>Tiana is the first African-American Disney pri...</td>\n",
       "    </tr>\n",
       "    <tr>\n",
       "      <th>Rapunzel</th>\n",
       "      <td>Rapunzel is depicted as a beautiful girl with ...</td>\n",
       "    </tr>\n",
       "    <tr>\n",
       "      <th>Merida</th>\n",
       "      <td>At 16, Merida is the daughter of King Fergus a...</td>\n",
       "    </tr>\n",
       "  </tbody>\n",
       "</table>\n",
       "</div>"
      ],
      "text/plain": [
       "                                                  description\n",
       "princess                                                     \n",
       "Snow White  Snow White is a princess of great beauty, whic...\n",
       "Cinderella  Cinderella is a young woman subjected to the a...\n",
       "Aurora      Princess Aurora is the only daughter of King S...\n",
       "Ariel       In the 1989 film, Ariel is the youngest of Kin...\n",
       "Belle       Belle lives in a small French village with her...\n",
       "Jasmine     A modern Disney heroine: independent, intellig...\n",
       "Pocahontas  Pocahontas is loosely based on the real-life f...\n",
       "Mulan       Mulan breaks away from traditional Disney prin...\n",
       "Tiana       Tiana is the first African-American Disney pri...\n",
       "Rapunzel    Rapunzel is depicted as a beautiful girl with ...\n",
       "Merida      At 16, Merida is the daughter of King Fergus a..."
      ]
     },
     "execution_count": 1,
     "metadata": {},
     "output_type": "execute_result"
    }
   ],
   "source": [
    "import json\n",
    "import pandas as pd\n",
    "\n",
    "\n",
    "with open('princesses.json', 'r') as f:\n",
    "    data = json.load(f)\n",
    "    \n",
    "df = pd.DataFrame(data.items(), columns=['princess', 'description']).set_index('princess')\n",
    "\n",
    "df"
   ]
  },
  {
   "cell_type": "code",
   "execution_count": 2,
   "id": "196c8a12",
   "metadata": {
    "slideshow": {
     "slide_type": "slide"
    }
   },
   "outputs": [
    {
     "name": "stderr",
     "output_type": "stream",
     "text": [
      "[nltk_data] Downloading package stopwords to\n",
      "[nltk_data]     /Users/vivianamarquez/nltk_data...\n",
      "[nltk_data]   Package stopwords is already up-to-date!\n"
     ]
    }
   ],
   "source": [
    "import re\n",
    "import pandas as pd \n",
    "\n",
    "import nltk\n",
    "nltk.download('stopwords')\n",
    "\n",
    "from nltk.corpus import stopwords"
   ]
  },
  {
   "cell_type": "code",
   "execution_count": 4,
   "id": "74f7d099",
   "metadata": {
    "slideshow": {
     "slide_type": "slide"
    }
   },
   "outputs": [],
   "source": [
    "sw = stopwords.words('english')\n",
    "\n",
    "def text_pre_processing(text):\n",
    "    text = text.lower() # Make it lowercase\n",
    "    text = re.sub(r\"[\\W\\d]\", \" \", text) # Remove punctuation\n",
    "    text = text.split() # Tokenize\n",
    "    text = [word for word in text if word not in sw] # Remove stop words\n",
    "    return \" \".join(text)\n",
    "\n",
    "df['text_pp'] = df['description'].apply(lambda row: text_pre_processing(row))"
   ]
  },
  {
   "cell_type": "code",
   "execution_count": 5,
   "id": "36b96e8e",
   "metadata": {
    "slideshow": {
     "slide_type": "slide"
    }
   },
   "outputs": [
    {
     "data": {
      "text/html": [
       "<div>\n",
       "<style scoped>\n",
       "    .dataframe tbody tr th:only-of-type {\n",
       "        vertical-align: middle;\n",
       "    }\n",
       "\n",
       "    .dataframe tbody tr th {\n",
       "        vertical-align: top;\n",
       "    }\n",
       "\n",
       "    .dataframe thead th {\n",
       "        text-align: right;\n",
       "    }\n",
       "</style>\n",
       "<table border=\"1\" class=\"dataframe\">\n",
       "  <thead>\n",
       "    <tr style=\"text-align: right;\">\n",
       "      <th></th>\n",
       "      <th>description</th>\n",
       "      <th>text_pp</th>\n",
       "    </tr>\n",
       "    <tr>\n",
       "      <th>princess</th>\n",
       "      <th></th>\n",
       "      <th></th>\n",
       "    </tr>\n",
       "  </thead>\n",
       "  <tbody>\n",
       "    <tr>\n",
       "      <th>Snow White</th>\n",
       "      <td>Snow White is a princess of great beauty, whic...</td>\n",
       "      <td>snow white princess great beauty makes stepmot...</td>\n",
       "    </tr>\n",
       "    <tr>\n",
       "      <th>Cinderella</th>\n",
       "      <td>Cinderella is a young woman subjected to the a...</td>\n",
       "      <td>cinderella young woman subjected authority ste...</td>\n",
       "    </tr>\n",
       "    <tr>\n",
       "      <th>Aurora</th>\n",
       "      <td>Princess Aurora is the only daughter of King S...</td>\n",
       "      <td>princess aurora daughter king stefan queen lea...</td>\n",
       "    </tr>\n",
       "    <tr>\n",
       "      <th>Ariel</th>\n",
       "      <td>In the 1989 film, Ariel is the youngest of Kin...</td>\n",
       "      <td>film ariel youngest king triton seven daughter...</td>\n",
       "    </tr>\n",
       "    <tr>\n",
       "      <th>Belle</th>\n",
       "      <td>Belle lives in a small French village with her...</td>\n",
       "      <td>belle lives small french village father mauric...</td>\n",
       "    </tr>\n",
       "    <tr>\n",
       "      <th>Jasmine</th>\n",
       "      <td>A modern Disney heroine: independent, intellig...</td>\n",
       "      <td>modern disney heroine independent intelligent ...</td>\n",
       "    </tr>\n",
       "    <tr>\n",
       "      <th>Pocahontas</th>\n",
       "      <td>Pocahontas is loosely based on the real-life f...</td>\n",
       "      <td>pocahontas loosely based real life figure mato...</td>\n",
       "    </tr>\n",
       "    <tr>\n",
       "      <th>Mulan</th>\n",
       "      <td>Mulan breaks away from traditional Disney prin...</td>\n",
       "      <td>mulan breaks away traditional disney princess ...</td>\n",
       "    </tr>\n",
       "    <tr>\n",
       "      <th>Tiana</th>\n",
       "      <td>Tiana is the first African-American Disney pri...</td>\n",
       "      <td>tiana first african american disney princess s...</td>\n",
       "    </tr>\n",
       "    <tr>\n",
       "      <th>Rapunzel</th>\n",
       "      <td>Rapunzel is depicted as a beautiful girl with ...</td>\n",
       "      <td>rapunzel depicted beautiful girl green eyes na...</td>\n",
       "    </tr>\n",
       "    <tr>\n",
       "      <th>Merida</th>\n",
       "      <td>At 16, Merida is the daughter of King Fergus a...</td>\n",
       "      <td>merida daughter king fergus queen elinor ruler...</td>\n",
       "    </tr>\n",
       "  </tbody>\n",
       "</table>\n",
       "</div>"
      ],
      "text/plain": [
       "                                                  description  \\\n",
       "princess                                                        \n",
       "Snow White  Snow White is a princess of great beauty, whic...   \n",
       "Cinderella  Cinderella is a young woman subjected to the a...   \n",
       "Aurora      Princess Aurora is the only daughter of King S...   \n",
       "Ariel       In the 1989 film, Ariel is the youngest of Kin...   \n",
       "Belle       Belle lives in a small French village with her...   \n",
       "Jasmine     A modern Disney heroine: independent, intellig...   \n",
       "Pocahontas  Pocahontas is loosely based on the real-life f...   \n",
       "Mulan       Mulan breaks away from traditional Disney prin...   \n",
       "Tiana       Tiana is the first African-American Disney pri...   \n",
       "Rapunzel    Rapunzel is depicted as a beautiful girl with ...   \n",
       "Merida      At 16, Merida is the daughter of King Fergus a...   \n",
       "\n",
       "                                                      text_pp  \n",
       "princess                                                       \n",
       "Snow White  snow white princess great beauty makes stepmot...  \n",
       "Cinderella  cinderella young woman subjected authority ste...  \n",
       "Aurora      princess aurora daughter king stefan queen lea...  \n",
       "Ariel       film ariel youngest king triton seven daughter...  \n",
       "Belle       belle lives small french village father mauric...  \n",
       "Jasmine     modern disney heroine independent intelligent ...  \n",
       "Pocahontas  pocahontas loosely based real life figure mato...  \n",
       "Mulan       mulan breaks away traditional disney princess ...  \n",
       "Tiana       tiana first african american disney princess s...  \n",
       "Rapunzel    rapunzel depicted beautiful girl green eyes na...  \n",
       "Merida      merida daughter king fergus queen elinor ruler...  "
      ]
     },
     "execution_count": 5,
     "metadata": {},
     "output_type": "execute_result"
    }
   ],
   "source": [
    "df"
   ]
  },
  {
   "cell_type": "markdown",
   "id": "f34111b1",
   "metadata": {
    "slideshow": {
     "slide_type": "slide"
    }
   },
   "source": [
    "# 🤔 Cool, we have cleaned and pre-processed our text... but it's still not numeric"
   ]
  },
  {
   "cell_type": "markdown",
   "id": "100fb4fe",
   "metadata": {
    "slideshow": {
     "slide_type": "fragment"
    }
   },
   "source": [
    "<center><img src='img/this.png' style='width:300px; float: left; margin: 0px 30px 15px 0px'></center> <big>Vectorial representation of texts!</big>\n",
    "\n",
    "\n",
    "(A vector is just a list of numbers)"
   ]
  },
  {
   "cell_type": "markdown",
   "id": "c3439235",
   "metadata": {
    "slideshow": {
     "slide_type": "slide"
    }
   },
   "source": [
    "# Vectorial representation of texts\n",
    "\n",
    "\n"
   ]
  },
  {
   "cell_type": "markdown",
   "id": "1efd5c48",
   "metadata": {
    "slideshow": {
     "slide_type": "fragment"
    }
   },
   "source": [
    "- There are several methods"
   ]
  },
  {
   "cell_type": "markdown",
   "id": "86441748",
   "metadata": {
    "slideshow": {
     "slide_type": "fragment"
    }
   },
   "source": [
    "- What differentiates one method from the other is how well it captures the linguistic properties of the text it represents and the amount of space it takes up in memory\n"
   ]
  },
  {
   "cell_type": "markdown",
   "id": "b52f95a8",
   "metadata": {
    "slideshow": {
     "slide_type": "fragment"
    }
   },
   "source": [
    "- Most popular methods:\n",
    "    - One-Hot Encoding\n",
    "    - Bag of Words \n",
    "    - TF-IDF \n",
    "    - Word embeddings (word2vec) \n",
    "        - CBOW (Continuous Bag of Words)\n",
    "        - SkipGram"
   ]
  },
  {
   "cell_type": "markdown",
   "id": "666ea80d",
   "metadata": {
    "slideshow": {
     "slide_type": "slide"
    }
   },
   "source": [
    "# One-Hot Encoding \n",
    "\n",
    "Mapping each word in the vocabulary of the text corpus to a unique identification"
   ]
  },
  {
   "cell_type": "markdown",
   "id": "d191cf45",
   "metadata": {
    "slideshow": {
     "slide_type": "fragment"
    }
   },
   "source": [
    "### Advantages\n",
    "- Intuitive and easy to understand\n",
    "- Implementation is straightforward"
   ]
  },
  {
   "cell_type": "markdown",
   "id": "d1b646d4",
   "metadata": {
    "slideshow": {
     "slide_type": "fragment"
    }
   },
   "source": [
    "### Disadvantages\n",
    "- Generates a sparse matrix\n",
    "- The vector of each phrase does not have a constant size\n",
    "- No notion of similarity between words\n",
    "- Out-of-vocabulary problem"
   ]
  },
  {
   "cell_type": "markdown",
   "id": "98ebf4f0",
   "metadata": {
    "slideshow": {
     "slide_type": "slide"
    }
   },
   "source": [
    "# Bag of Words (BoW)\n",
    "\n",
    "- Represent the text as a bag of words (ignoring order and context).\n",
    "- If two pieces of text have almost the same words, then they belong to the same bag."
   ]
  },
  {
   "cell_type": "code",
   "execution_count": 6,
   "id": "5e2d5f5c",
   "metadata": {
    "slideshow": {
     "slide_type": "slide"
    }
   },
   "outputs": [
    {
     "name": "stdout",
     "output_type": "stream",
     "text": [
      "Vocabulary:  {'snow': 402, 'white': 475, 'princess': 349, 'great': 196, 'beauty': 40, 'makes': 278, 'stepmother': 409, 'queen': 352, 'jealous': 235, 'daily': 100, 'asks': 25, 'magic': 275, 'mirror': 294, 'fairest': 147, 'land': 247, 'always': 14, 'hoping': 215, 'say': 384, 'one': 318, 'day': 104, 'however': 217, 'tells': 428, 'furious': 178, 'decides': 106, 'young': 486, 'girl': 184, 'killed': 239, 'huntsman': 221, 'assigns': 26, 'task': 425, 'cannot': 65, 'bring': 60, 'lets': 257, 'escape': 138, 'lost': 268, 'forest': 173, 'exhausted': 142, 'ends': 133, 'house': 216, 'inhabited': 227, 'seven': 396, 'dwarfs': 126, 'cinderella': 78, 'woman': 483, 'subjected': 417, 'authority': 29, 'lady': 246, 'tremaine': 446, 'two': 454, 'stepsisters': 410, 'anastasia': 16, 'drizella': 123, 'although': 13, 'mistreated': 296, 'humiliated': 220, 'forced': 171, 'role': 372, 'servant': 394, 'maintains': 277, 'hope': 214, 'dreams': 121, 'believes': 44, 'wishes': 481, 'happiness': 202, 'come': 82, 'true': 451, 'orphaned': 322, 'fairy': 149, 'godmother': 189, 'animal': 18, 'friends': 177, 'support': 421, 'encourage': 131, 'pursuit': 351, 'love': 269, 'also': 12, 'strong': 415, 'determined': 114, 'royal': 379, 'ball': 34, 'invitation': 233, 'arrives': 24, 'everything': 140, 'convince': 91, 'deserves': 112, 'attend': 27, 'like': 260, 'anyone': 20, 'else': 130, 'cruel': 95, 'prevent': 347, 'going': 190, 'seen': 393, 'various': 462, 'outfits': 324, 'films': 159, 'rags': 355, 'blue': 51, 'nightgown': 312, 'pink': 334, 'dress': 122, 'made': 273, 'animals': 19, 'torn': 438, 'magical': 276, 'gown': 194, 'wedding': 473, 'often': 317, 'depicted': 108, 'merchandise': 289, 'wearing': 471, 'light': 259, 'glass': 187, 'slippers': 400, 'long': 265, 'gloves': 188, 'aurora': 28, 'daughter': 102, 'king': 242, 'stefan': 408, 'leah': 251, 'portrayed': 339, 'kind': 241, 'gentle': 181, 'timid': 437, 'somewhat': 403, 'naive': 304, 'loves': 270, 'romance': 374, 'dominant': 120, 'personality': 333, 'trait': 442, 'christening': 77, 'three': 434, 'good': 192, 'fairies': 148, 'bless': 49, 'grace': 195, 'beautiful': 39, 'voice': 467, 'maleficent': 279, 'describes': 111, 'indeed': 224, 'admit': 3, 'rare': 357, 'hair': 201, 'golden': 191, 'wheat': 474, 'lips': 261, 'brightest': 59, 'rose': 377, 'alas': 10, 'rests': 370, 'name': 305, 'comes': 83, 'perrault': 332, 'tale': 423, 'originally': 321, 'given': 185, 'tchaikovsky': 426, 'applied': 21, 'ballet': 35, 'disney': 119, 'later': 250, 'followed': 168, 'film': 158, 'alias': 11, 'hide': 210, 'german': 182, 'version': 463, 'first': 164, 'french': 175, 'called': 64, 'églantine': 488, 'direct': 116, 'translation': 443, 'briar': 57, 'english': 134, 'translations': 444, 'rosamond': 375, 'rosamund': 376, 'ariel': 23, 'youngest': 487, 'triton': 449, 'daughters': 103, 'aged': 8, 'adventurous': 5, 'curious': 96, 'human': 218, 'world': 485, 'shocks': 398, 'father': 152, 'forbids': 170, 'contact': 89, 'humans': 219, 'deeply': 107, 'wary': 469, 'best': 47, 'friend': 176, 'fish': 165, 'named': 306, 'flounder': 166, 'close': 79, 'sebastian': 388, 'crab': 93, 'advisor': 6, 'secretly': 390, 'collects': 81, 'objects': 315, 'hidden': 209, 'grotto': 198, 'story': 414, 'saves': 383, 'prince': 348, 'eric': 137, 'falls': 150, 'conflict': 87, 'visits': 466, 'sea': 387, 'witch': 482, 'ursula': 461, 'trading': 440, 'legs': 255, 'days': 105, 'win': 479, 'heart': 204, 'nearly': 308, 'succeeds': 418, 'getting': 183, 'kiss': 244, 'interferes': 231, 'time': 436, 'runs': 381, 'becomes': 42, 'mermaid': 292, 'save': 382, 'gives': 186, 'crown': 94, 'trident': 448, 'kills': 240, 'ensuing': 135, 'battle': 37, 'restores': 369, 'form': 174, 'permanently': 331, 'marry': 284, 'belle': 45, 'lives': 263, 'small': 401, 'village': 464, 'maurice': 286, 'inventor': 232, 'locals': 264, 'think': 432, 'mad': 271, 'books': 53, 'exploration': 144, 'visiting': 465, 'bookshop': 54, 'new': 311, 'stories': 413, 'though': 433, 'admired': 2, 'many': 281, 'find': 161, 'odd': 316, 'peculiar': 329, 'gaston': 180, 'pursues': 350, 'firmly': 163, 'rejects': 361, 'tv': 453, 'movie': 300, 'descendants': 109, 'takes': 422, 'place': 335, 'beast': 38, 'son': 404, 'ben': 46, 'central': 68, 'character': 71, 'modern': 297, 'heroine': 207, 'independent': 225, 'intelligent': 230, 'bold': 52, 'guided': 200, 'jasmine': 234, 'feels': 154, 'stifled': 412, 'palace': 327, 'life': 258, 'control': 90, 'th': 429, 'birthday': 48, 'legally': 254, 'required': 363, 'choose': 76, 'suitor': 419, 'away': 31, 'hides': 211, 'marketplace': 282, 'meets': 288, 'aladdin': 9, 'helps': 206, 'trouble': 450, 'merchant': 290, 'beginning': 43, 'sultan': 420, 'blessing': 50, 'poor': 338, 'thief': 430, 'eventually': 139, 'unite': 457, 'pocahontas': 337, 'loosely': 266, 'based': 36, 'real': 358, 'figure': 157, 'matoaka': 285, 'known': 245, 'means': 287, 'little': 262, 'mischief': 295, 'powhatan': 342, 'presents': 345, 'noble': 313, 'chief': 73, 'spiritual': 407, 'wise': 480, 'others': 323, 'nature': 307, 'adventure': 4, 'seems': 392, 'possess': 340, 'shamanic': 397, 'powers': 341, 'communicating': 84, 'elements': 128, 'understanding': 456, 'unknown': 458, 'languages': 248, 'unlike': 459, 'tribe': 447, 'open': 319, 'minded': 293, 'unafraid': 455, 'serving': 395, 'bridge': 58, 'people': 330, 'foreigners': 172, 'mulan': 301, 'breaks': 56, 'traditional': 441, 'roles': 373, 'ancient': 17, 'chinese': 75, 'expectations': 143, 'women': 484, 'quiet': 353, 'obedient': 314, 'reserved': 365, 'brave': 55, 'clumsy': 80, 'resourceful': 366, 'honest': 213, 'unsure': 460, 'feeling': 153, 'disappointment': 118, 'family': 151, 'grows': 199, 'confident': 86, 'helping': 205, 'china': 74, 'courage': 92, 'determination': 113, 'ingenuity': 226, 'earn': 127, 'respect': 367, 'tiana': 435, 'african': 7, 'american': 15, 'second': 389, 'original': 320, 'maddy': 272, 'changed': 70, 'due': 124, 'concerns': 85, 'resembled': 364, 'mammy': 280, 'racially': 354, 'insensitive': 228, 'stereotype': 411, 'talented': 424, 'waitress': 468, 'chef': 72, 'owning': 326, 'restaurant': 368, 'rough': 378, 'diamond': 115, 'must': 303, 'learn': 252, 'key': 238, 'lessons': 256, 'become': 41, 'director': 117, 'john': 236, 'musker': 302, 'described': 110, 'strongest': 416, 'willed': 478, 'heroines': 208, 'motivated': 299, 'things': 431, 'way': 470, 'learns': 253, 'balance': 33, 'necessary': 309, 'important': 222, 'career': 66, 'rapunzel': 356, 'green': 197, 'eyes': 146, 'shy': 399, 'trapped': 445, 'tower': 439, 'wicked': 476, 'mother': 298, 'gothel': 193, 'spends': 406, 'playing': 336, 'chameleon': 69, 'pascal': 328, 'brushing': 63, 'seeing': 391, 'outside': 325, 'flynn': 167, 'rider': 371, 'accidentally': 0, 'finds': 162, 'marries': 283, 'healing': 203, 'activated': 1, 'spell': 405, 'cut': 98, 'turns': 452, 'brown': 62, 'loses': 267, 'never': 310, 'back': 32, 'end': 132, 'cuts': 99, 'final': 160, 'tear': 427, 'last': 249, 'merida': 291, 'fergus': 155, 'elinor': 129, 'rulers': 380, 'dun': 125, 'broch': 61, 'scottish': 386, 'highlands': 212, 'curly': 97, 'red': 360, 'wears': 472, 'dark': 101, 'rebellious': 359, 'fiery': 156, 'causes': 67, 'constant': 88, 'insists': 229, 'ensure': 136, 'kingdom': 243, 'future': 179, 'prefers': 344, 'exploring': 145, 'practicing': 343, 'archery': 22, 'relaxed': 362, 'fond': 169, 'jokes': 237, 'avoids': 30, 'scolding': 385, 'except': 141, 'pressure': 346, 'impulsive': 223, 'madly': 274, 'wife': 477}\n"
     ]
    },
    {
     "data": {
      "text/html": [
       "<div>\n",
       "<style scoped>\n",
       "    .dataframe tbody tr th:only-of-type {\n",
       "        vertical-align: middle;\n",
       "    }\n",
       "\n",
       "    .dataframe tbody tr th {\n",
       "        vertical-align: top;\n",
       "    }\n",
       "\n",
       "    .dataframe thead th {\n",
       "        text-align: right;\n",
       "    }\n",
       "</style>\n",
       "<table border=\"1\" class=\"dataframe\">\n",
       "  <thead>\n",
       "    <tr style=\"text-align: right;\">\n",
       "      <th></th>\n",
       "      <th>description</th>\n",
       "      <th>text_pp</th>\n",
       "      <th>bow</th>\n",
       "    </tr>\n",
       "    <tr>\n",
       "      <th>princess</th>\n",
       "      <th></th>\n",
       "      <th></th>\n",
       "      <th></th>\n",
       "    </tr>\n",
       "  </thead>\n",
       "  <tbody>\n",
       "    <tr>\n",
       "      <th>Snow White</th>\n",
       "      <td>Snow White is a princess of great beauty, whic...</td>\n",
       "      <td>snow white princess great beauty makes stepmot...</td>\n",
       "      <td>[0, 0, 0, 0, 0, 0, 0, 0, 0, 0, 0, 0, 0, 0, 1, ...</td>\n",
       "    </tr>\n",
       "    <tr>\n",
       "      <th>Cinderella</th>\n",
       "      <td>Cinderella is a young woman subjected to the a...</td>\n",
       "      <td>cinderella young woman subjected authority ste...</td>\n",
       "      <td>[0, 0, 0, 0, 0, 0, 0, 0, 0, 0, 0, 0, 1, 1, 0, ...</td>\n",
       "    </tr>\n",
       "    <tr>\n",
       "      <th>Aurora</th>\n",
       "      <td>Princess Aurora is the only daughter of King S...</td>\n",
       "      <td>princess aurora daughter king stefan queen lea...</td>\n",
       "      <td>[0, 0, 0, 1, 0, 0, 0, 0, 0, 0, 1, 1, 1, 0, 0, ...</td>\n",
       "    </tr>\n",
       "    <tr>\n",
       "      <th>Ariel</th>\n",
       "      <td>In the 1989 film, Ariel is the youngest of Kin...</td>\n",
       "      <td>film ariel youngest king triton seven daughter...</td>\n",
       "      <td>[0, 0, 0, 0, 0, 1, 1, 0, 1, 0, 0, 0, 0, 0, 0, ...</td>\n",
       "    </tr>\n",
       "    <tr>\n",
       "      <th>Belle</th>\n",
       "      <td>Belle lives in a small French village with her...</td>\n",
       "      <td>belle lives small french village father mauric...</td>\n",
       "      <td>[0, 0, 1, 0, 0, 0, 0, 0, 0, 0, 0, 0, 0, 0, 0, ...</td>\n",
       "    </tr>\n",
       "  </tbody>\n",
       "</table>\n",
       "</div>"
      ],
      "text/plain": [
       "                                                  description  \\\n",
       "princess                                                        \n",
       "Snow White  Snow White is a princess of great beauty, whic...   \n",
       "Cinderella  Cinderella is a young woman subjected to the a...   \n",
       "Aurora      Princess Aurora is the only daughter of King S...   \n",
       "Ariel       In the 1989 film, Ariel is the youngest of Kin...   \n",
       "Belle       Belle lives in a small French village with her...   \n",
       "\n",
       "                                                      text_pp  \\\n",
       "princess                                                        \n",
       "Snow White  snow white princess great beauty makes stepmot...   \n",
       "Cinderella  cinderella young woman subjected authority ste...   \n",
       "Aurora      princess aurora daughter king stefan queen lea...   \n",
       "Ariel       film ariel youngest king triton seven daughter...   \n",
       "Belle       belle lives small french village father mauric...   \n",
       "\n",
       "                                                          bow  \n",
       "princess                                                       \n",
       "Snow White  [0, 0, 0, 0, 0, 0, 0, 0, 0, 0, 0, 0, 0, 0, 1, ...  \n",
       "Cinderella  [0, 0, 0, 0, 0, 0, 0, 0, 0, 0, 0, 0, 1, 1, 0, ...  \n",
       "Aurora      [0, 0, 0, 1, 0, 0, 0, 0, 0, 0, 1, 1, 1, 0, 0, ...  \n",
       "Ariel       [0, 0, 0, 0, 0, 1, 1, 0, 1, 0, 0, 0, 0, 0, 0, ...  \n",
       "Belle       [0, 0, 1, 0, 0, 0, 0, 0, 0, 0, 0, 0, 0, 0, 0, ...  "
      ]
     },
     "execution_count": 6,
     "metadata": {},
     "output_type": "execute_result"
    }
   ],
   "source": [
    "from sklearn.feature_extraction.text import CountVectorizer\n",
    "\n",
    "count_vect = CountVectorizer(binary=True)\n",
    "bow_rep = count_vect.fit_transform(df['text_pp'].values)\n",
    "\n",
    "print(\"Vocabulary: \", count_vect.vocabulary_)\n",
    "\n",
    "df['bow'] = [row for row in bow_rep.toarray()]\n",
    "\n",
    "df.head()"
   ]
  },
  {
   "cell_type": "markdown",
   "id": "6712c020",
   "metadata": {
    "slideshow": {
     "slide_type": "fragment"
    }
   },
   "source": [
    "### Advantages\n",
    "- Intuitive and easy to understand\n",
    "- The implementation is straightforward\n",
    "- The vector of each phrase has a constant size"
   ]
  },
  {
   "cell_type": "markdown",
   "id": "69544f0d",
   "metadata": {
    "slideshow": {
     "slide_type": "fragment"
    }
   },
   "source": [
    "### Disadvantages\n",
    "- Generates a sparse matrix (solution?)\n",
    "- No notion of similarity between words\n",
    "- Out-of-vocabulary problem\n",
    "- Information order is lost"
   ]
  },
  {
   "cell_type": "markdown",
   "id": "8fc650f4",
   "metadata": {
    "slideshow": {
     "slide_type": "slide"
    }
   },
   "source": [
    "# TF-IDF (Term Frequency, Inverse Document Frequency) \n",
    "\n",
    "- It seeks to quantify the importance of a word relative to the other words in the document and in the corpus.\n",
    "- It is frequently used in information retrieval systems and clustering algorithms.\n",
    "- The more a word helps to distinguish a document from others, the higher its TF-IDF score will be."
   ]
  },
  {
   "cell_type": "markdown",
   "id": "980130c2",
   "metadata": {
    "slideshow": {
     "slide_type": "slide"
    }
   },
   "source": [
    "### TF: Term Frequency\n",
    "\n",
    "- Term frequency: Counting the number of occurrences of a word in a document, divided by the number of words in that document.\n",
    "\n",
    "$$ tf(t,d) = \\dfrac{count(t)}{|d|}$$\n",
    "\n",
    "where\n",
    "- $t$ is term\n",
    "- $d$ is document"
   ]
  },
  {
   "cell_type": "markdown",
   "id": "44103207",
   "metadata": {
    "slideshow": {
     "slide_type": "fragment"
    }
   },
   "source": [
    "*Note: The term frequency is higher for words frequently used in a document.*"
   ]
  },
  {
   "cell_type": "markdown",
   "id": "4073cb5e",
   "metadata": {
    "slideshow": {
     "slide_type": "slide"
    }
   },
   "source": [
    "### DF: Document Frequency\n",
    "\n",
    "- Frequency in documents: It is the number of documents that have that word over the total number of documents.\n",
    "\n",
    "$$ df(t,N) = \\dfrac{|\\{d_i: t\\in d_i, i=1, \\dots , N\\}|}{N}$$\n",
    "\n",
    "where\n",
    "- $t$ is term\n",
    "- $N$ is Number of documents"
   ]
  },
  {
   "cell_type": "markdown",
   "id": "ef64c423",
   "metadata": {
    "slideshow": {
     "slide_type": "fragment"
    }
   },
   "source": [
    "*Note: Frequency in documents is higher for words used in many documents*"
   ]
  },
  {
   "cell_type": "markdown",
   "id": "8a521b2f",
   "metadata": {
    "slideshow": {
     "slide_type": "slide"
    }
   },
   "source": [
    "## So far we have TF and DF... how do we get to TD-IDF?\n",
    "\n",
    "\n",
    "\n"
   ]
  },
  {
   "cell_type": "markdown",
   "id": "90520e04",
   "metadata": {
    "slideshow": {
     "slide_type": "fragment"
    }
   },
   "source": [
    "- A specific word to some document will have very low term frequency"
   ]
  },
  {
   "cell_type": "markdown",
   "id": "10bb90d7",
   "metadata": {
    "slideshow": {
     "slide_type": "fragment"
    }
   },
   "source": [
    "- Since the goal is to distinguish one document from another, we want to highlight words used frequently in one document but penalize them if they are present in all documents. This is called TF-IDF."
   ]
  },
  {
   "cell_type": "markdown",
   "id": "90f342b8",
   "metadata": {
    "slideshow": {
     "slide_type": "fragment"
    }
   },
   "source": [
    "- Then, we obtain:\n",
    "\n",
    "$$tfidf (t,d,N) = tf(df) \\times \\log\\big(\\frac{1}{df(t,N)}\\big)$$\n",
    "\n",
    "where\n",
    "- $t$ is term\n",
    "- $d$ is document\n",
    "- $N$ is Number of documents"
   ]
  },
  {
   "cell_type": "markdown",
   "id": "087c5706",
   "metadata": {
    "slideshow": {
     "slide_type": "fragment"
    }
   },
   "source": [
    "- When $t$ is in all documents, $idf = log(1) = 0$\n",
    " \n",
    "- This makes sense since a word that is in all documents is very bad at distinguishing between documents"
   ]
  },
  {
   "cell_type": "code",
   "execution_count": 8,
   "id": "55cc81c0",
   "metadata": {
    "slideshow": {
     "slide_type": "slide"
    }
   },
   "outputs": [
    {
     "data": {
      "text/html": [
       "<div>\n",
       "<style scoped>\n",
       "    .dataframe tbody tr th:only-of-type {\n",
       "        vertical-align: middle;\n",
       "    }\n",
       "\n",
       "    .dataframe tbody tr th {\n",
       "        vertical-align: top;\n",
       "    }\n",
       "\n",
       "    .dataframe thead th {\n",
       "        text-align: right;\n",
       "    }\n",
       "</style>\n",
       "<table border=\"1\" class=\"dataframe\">\n",
       "  <thead>\n",
       "    <tr style=\"text-align: right;\">\n",
       "      <th>princess</th>\n",
       "      <th>Snow White</th>\n",
       "      <th>Cinderella</th>\n",
       "      <th>Aurora</th>\n",
       "      <th>Ariel</th>\n",
       "      <th>Belle</th>\n",
       "      <th>Jasmine</th>\n",
       "      <th>Pocahontas</th>\n",
       "      <th>Mulan</th>\n",
       "      <th>Tiana</th>\n",
       "      <th>Rapunzel</th>\n",
       "      <th>Merida</th>\n",
       "    </tr>\n",
       "  </thead>\n",
       "  <tbody>\n",
       "    <tr>\n",
       "      <th>accidentally</th>\n",
       "      <td>0.000</td>\n",
       "      <td>0.000</td>\n",
       "      <td>0.000</td>\n",
       "      <td>0.000</td>\n",
       "      <td>0.000</td>\n",
       "      <td>0.0</td>\n",
       "      <td>0.000</td>\n",
       "      <td>0.000</td>\n",
       "      <td>0.0</td>\n",
       "      <td>0.118</td>\n",
       "      <td>0.0</td>\n",
       "    </tr>\n",
       "    <tr>\n",
       "      <th>activated</th>\n",
       "      <td>0.000</td>\n",
       "      <td>0.000</td>\n",
       "      <td>0.000</td>\n",
       "      <td>0.000</td>\n",
       "      <td>0.000</td>\n",
       "      <td>0.0</td>\n",
       "      <td>0.000</td>\n",
       "      <td>0.000</td>\n",
       "      <td>0.0</td>\n",
       "      <td>0.118</td>\n",
       "      <td>0.0</td>\n",
       "    </tr>\n",
       "    <tr>\n",
       "      <th>admired</th>\n",
       "      <td>0.000</td>\n",
       "      <td>0.000</td>\n",
       "      <td>0.000</td>\n",
       "      <td>0.000</td>\n",
       "      <td>0.141</td>\n",
       "      <td>0.0</td>\n",
       "      <td>0.000</td>\n",
       "      <td>0.000</td>\n",
       "      <td>0.0</td>\n",
       "      <td>0.000</td>\n",
       "      <td>0.0</td>\n",
       "    </tr>\n",
       "    <tr>\n",
       "      <th>admit</th>\n",
       "      <td>0.000</td>\n",
       "      <td>0.000</td>\n",
       "      <td>0.098</td>\n",
       "      <td>0.000</td>\n",
       "      <td>0.000</td>\n",
       "      <td>0.0</td>\n",
       "      <td>0.000</td>\n",
       "      <td>0.000</td>\n",
       "      <td>0.0</td>\n",
       "      <td>0.000</td>\n",
       "      <td>0.0</td>\n",
       "    </tr>\n",
       "    <tr>\n",
       "      <th>adventure</th>\n",
       "      <td>0.000</td>\n",
       "      <td>0.000</td>\n",
       "      <td>0.000</td>\n",
       "      <td>0.000</td>\n",
       "      <td>0.000</td>\n",
       "      <td>0.0</td>\n",
       "      <td>0.146</td>\n",
       "      <td>0.000</td>\n",
       "      <td>0.0</td>\n",
       "      <td>0.000</td>\n",
       "      <td>0.0</td>\n",
       "    </tr>\n",
       "    <tr>\n",
       "      <th>...</th>\n",
       "      <td>...</td>\n",
       "      <td>...</td>\n",
       "      <td>...</td>\n",
       "      <td>...</td>\n",
       "      <td>...</td>\n",
       "      <td>...</td>\n",
       "      <td>...</td>\n",
       "      <td>...</td>\n",
       "      <td>...</td>\n",
       "      <td>...</td>\n",
       "      <td>...</td>\n",
       "    </tr>\n",
       "    <tr>\n",
       "      <th>women</th>\n",
       "      <td>0.000</td>\n",
       "      <td>0.000</td>\n",
       "      <td>0.000</td>\n",
       "      <td>0.000</td>\n",
       "      <td>0.000</td>\n",
       "      <td>0.0</td>\n",
       "      <td>0.000</td>\n",
       "      <td>0.176</td>\n",
       "      <td>0.0</td>\n",
       "      <td>0.000</td>\n",
       "      <td>0.0</td>\n",
       "    </tr>\n",
       "    <tr>\n",
       "      <th>world</th>\n",
       "      <td>0.000</td>\n",
       "      <td>0.000</td>\n",
       "      <td>0.000</td>\n",
       "      <td>0.073</td>\n",
       "      <td>0.000</td>\n",
       "      <td>0.0</td>\n",
       "      <td>0.000</td>\n",
       "      <td>0.000</td>\n",
       "      <td>0.0</td>\n",
       "      <td>0.101</td>\n",
       "      <td>0.0</td>\n",
       "    </tr>\n",
       "    <tr>\n",
       "      <th>young</th>\n",
       "      <td>0.084</td>\n",
       "      <td>0.064</td>\n",
       "      <td>0.066</td>\n",
       "      <td>0.000</td>\n",
       "      <td>0.000</td>\n",
       "      <td>0.0</td>\n",
       "      <td>0.098</td>\n",
       "      <td>0.000</td>\n",
       "      <td>0.0</td>\n",
       "      <td>0.000</td>\n",
       "      <td>0.0</td>\n",
       "    </tr>\n",
       "    <tr>\n",
       "      <th>youngest</th>\n",
       "      <td>0.000</td>\n",
       "      <td>0.000</td>\n",
       "      <td>0.000</td>\n",
       "      <td>0.085</td>\n",
       "      <td>0.000</td>\n",
       "      <td>0.0</td>\n",
       "      <td>0.000</td>\n",
       "      <td>0.000</td>\n",
       "      <td>0.0</td>\n",
       "      <td>0.000</td>\n",
       "      <td>0.0</td>\n",
       "    </tr>\n",
       "    <tr>\n",
       "      <th>églantine</th>\n",
       "      <td>0.000</td>\n",
       "      <td>0.000</td>\n",
       "      <td>0.098</td>\n",
       "      <td>0.000</td>\n",
       "      <td>0.000</td>\n",
       "      <td>0.0</td>\n",
       "      <td>0.000</td>\n",
       "      <td>0.000</td>\n",
       "      <td>0.0</td>\n",
       "      <td>0.000</td>\n",
       "      <td>0.0</td>\n",
       "    </tr>\n",
       "  </tbody>\n",
       "</table>\n",
       "<p>489 rows × 11 columns</p>\n",
       "</div>"
      ],
      "text/plain": [
       "princess      Snow White  Cinderella  Aurora  Ariel  Belle  Jasmine  \\\n",
       "accidentally       0.000       0.000   0.000  0.000  0.000      0.0   \n",
       "activated          0.000       0.000   0.000  0.000  0.000      0.0   \n",
       "admired            0.000       0.000   0.000  0.000  0.141      0.0   \n",
       "admit              0.000       0.000   0.098  0.000  0.000      0.0   \n",
       "adventure          0.000       0.000   0.000  0.000  0.000      0.0   \n",
       "...                  ...         ...     ...    ...    ...      ...   \n",
       "women              0.000       0.000   0.000  0.000  0.000      0.0   \n",
       "world              0.000       0.000   0.000  0.073  0.000      0.0   \n",
       "young              0.084       0.064   0.066  0.000  0.000      0.0   \n",
       "youngest           0.000       0.000   0.000  0.085  0.000      0.0   \n",
       "églantine          0.000       0.000   0.098  0.000  0.000      0.0   \n",
       "\n",
       "princess      Pocahontas  Mulan  Tiana  Rapunzel  Merida  \n",
       "accidentally       0.000  0.000    0.0     0.118     0.0  \n",
       "activated          0.000  0.000    0.0     0.118     0.0  \n",
       "admired            0.000  0.000    0.0     0.000     0.0  \n",
       "admit              0.000  0.000    0.0     0.000     0.0  \n",
       "adventure          0.146  0.000    0.0     0.000     0.0  \n",
       "...                  ...    ...    ...       ...     ...  \n",
       "women              0.000  0.176    0.0     0.000     0.0  \n",
       "world              0.000  0.000    0.0     0.101     0.0  \n",
       "young              0.098  0.000    0.0     0.000     0.0  \n",
       "youngest           0.000  0.000    0.0     0.000     0.0  \n",
       "églantine          0.000  0.000    0.0     0.000     0.0  \n",
       "\n",
       "[489 rows x 11 columns]"
      ]
     },
     "execution_count": 8,
     "metadata": {},
     "output_type": "execute_result"
    }
   ],
   "source": [
    "from sklearn.feature_extraction.text import TfidfVectorizer\n",
    "\n",
    "tfidf_vect = TfidfVectorizer()\n",
    "tfidf = tfidf_vect.fit_transform(df['text_pp'].values)\n",
    "\n",
    "tfidf_matrix = pd.DataFrame(tfidf.toarray(), columns=tfidf_vect.get_feature_names_out())\n",
    "\n",
    "tfidf_matrix.index = df.index\n",
    "\n",
    "tfidf_matrix.T.round(3)"
   ]
  },
  {
   "cell_type": "markdown",
   "id": "389a3040",
   "metadata": {
    "slideshow": {
     "slide_type": "slide"
    }
   },
   "source": [
    "# 🔮 In the next class\n",
    "\n",
    "#### Going from TF-IDF to Word2Vec\n",
    "\n",
    "- So far, the vector representations of text that we have seen treat linguistic units as atomic units.\n",
    "- Vectors are sparse\n",
    "- They have problems with words outside the vocabulary\n",
    "\n",
    "With distributed representations, such as **word2vec**, we can create dense, low-dimensional representations that capture distributional similarities between words"
   ]
  },
  {
   "cell_type": "markdown",
   "id": "ef222119",
   "metadata": {
    "slideshow": {
     "slide_type": "slide"
    }
   },
   "source": [
    "# Similarity measures\n",
    "How similar are the documents?"
   ]
  },
  {
   "cell_type": "markdown",
   "id": "b12fbe32",
   "metadata": {
    "slideshow": {
     "slide_type": "slide"
    }
   },
   "source": [
    "# Euclidean distance\n",
    "\n",
    "<br>\n",
    "<center><img src='img/dist_euc.png' style='height:350px;'>\n",
    "<small>Image credit: R-Bloggers</small></center>"
   ]
  },
  {
   "cell_type": "code",
   "execution_count": 9,
   "id": "adfcff6f",
   "metadata": {
    "slideshow": {
     "slide_type": "slide"
    }
   },
   "outputs": [
    {
     "data": {
      "text/html": [
       "<style type=\"text/css\">\n",
       "#T_4f18c_row0_col0, #T_4f18c_row1_col1, #T_4f18c_row2_col2, #T_4f18c_row3_col3, #T_4f18c_row4_col4, #T_4f18c_row5_col5, #T_4f18c_row6_col6, #T_4f18c_row7_col7, #T_4f18c_row8_col8, #T_4f18c_row9_col9, #T_4f18c_row10_col10 {\n",
       "  background-color: #f7fbff;\n",
       "  color: #000000;\n",
       "}\n",
       "#T_4f18c_row0_col1, #T_4f18c_row1_col10, #T_4f18c_row9_col10, #T_4f18c_row10_col9 {\n",
       "  background-color: #083b7c;\n",
       "  color: #f1f1f1;\n",
       "}\n",
       "#T_4f18c_row0_col2, #T_4f18c_row0_col9, #T_4f18c_row1_col6, #T_4f18c_row9_col1 {\n",
       "  background-color: #083471;\n",
       "  color: #f1f1f1;\n",
       "}\n",
       "#T_4f18c_row0_col3, #T_4f18c_row0_col5, #T_4f18c_row1_col2, #T_4f18c_row1_col3, #T_4f18c_row1_col5, #T_4f18c_row3_col0, #T_4f18c_row3_col1, #T_4f18c_row3_col6, #T_4f18c_row4_col1, #T_4f18c_row4_col5, #T_4f18c_row4_col6, #T_4f18c_row4_col7, #T_4f18c_row4_col8, #T_4f18c_row4_col9, #T_4f18c_row4_col10, #T_4f18c_row5_col0, #T_4f18c_row5_col1, #T_4f18c_row6_col0, #T_4f18c_row6_col3, #T_4f18c_row6_col4, #T_4f18c_row7_col0, #T_4f18c_row7_col1, #T_4f18c_row7_col3, #T_4f18c_row7_col4, #T_4f18c_row7_col10, #T_4f18c_row8_col4, #T_4f18c_row9_col4, #T_4f18c_row10_col4, #T_4f18c_row10_col7, #T_4f18c_row10_col8 {\n",
       "  background-color: #08306b;\n",
       "  color: #f1f1f1;\n",
       "}\n",
       "#T_4f18c_row0_col4, #T_4f18c_row2_col1, #T_4f18c_row3_col4, #T_4f18c_row3_col8, #T_4f18c_row4_col3, #T_4f18c_row5_col2, #T_4f18c_row7_col2, #T_4f18c_row8_col3, #T_4f18c_row8_col9, #T_4f18c_row10_col0, #T_4f18c_row10_col2 {\n",
       "  background-color: #08326e;\n",
       "  color: #f1f1f1;\n",
       "}\n",
       "#T_4f18c_row0_col6, #T_4f18c_row0_col7, #T_4f18c_row0_col8, #T_4f18c_row1_col4, #T_4f18c_row1_col7, #T_4f18c_row3_col2, #T_4f18c_row3_col7, #T_4f18c_row4_col0, #T_4f18c_row5_col4, #T_4f18c_row5_col10, #T_4f18c_row7_col9, #T_4f18c_row8_col0, #T_4f18c_row8_col10, #T_4f18c_row9_col7, #T_4f18c_row9_col8, #T_4f18c_row10_col5 {\n",
       "  background-color: #08316d;\n",
       "  color: #f1f1f1;\n",
       "}\n",
       "#T_4f18c_row0_col10, #T_4f18c_row2_col3, #T_4f18c_row6_col1, #T_4f18c_row6_col9, #T_4f18c_row9_col0, #T_4f18c_row9_col2, #T_4f18c_row9_col6 {\n",
       "  background-color: #083370;\n",
       "  color: #f1f1f1;\n",
       "}\n",
       "#T_4f18c_row1_col0, #T_4f18c_row2_col8, #T_4f18c_row10_col1 {\n",
       "  background-color: #083a7a;\n",
       "  color: #f1f1f1;\n",
       "}\n",
       "#T_4f18c_row1_col8, #T_4f18c_row2_col9, #T_4f18c_row3_col5, #T_4f18c_row3_col10, #T_4f18c_row5_col3, #T_4f18c_row5_col9, #T_4f18c_row6_col7, #T_4f18c_row6_col8, #T_4f18c_row7_col6, #T_4f18c_row9_col5 {\n",
       "  background-color: #083674;\n",
       "  color: #f1f1f1;\n",
       "}\n",
       "#T_4f18c_row1_col9, #T_4f18c_row2_col0, #T_4f18c_row2_col5, #T_4f18c_row2_col7, #T_4f18c_row2_col10, #T_4f18c_row4_col2, #T_4f18c_row5_col6, #T_4f18c_row6_col2, #T_4f18c_row6_col5, #T_4f18c_row6_col10, #T_4f18c_row10_col3, #T_4f18c_row10_col6 {\n",
       "  background-color: #083573;\n",
       "  color: #f1f1f1;\n",
       "}\n",
       "#T_4f18c_row2_col4, #T_4f18c_row2_col6, #T_4f18c_row5_col7, #T_4f18c_row7_col5, #T_4f18c_row8_col1, #T_4f18c_row8_col6, #T_4f18c_row9_col3 {\n",
       "  background-color: #083776;\n",
       "  color: #f1f1f1;\n",
       "}\n",
       "#T_4f18c_row3_col9, #T_4f18c_row5_col8, #T_4f18c_row7_col8, #T_4f18c_row8_col2, #T_4f18c_row8_col5 {\n",
       "  background-color: #083877;\n",
       "  color: #f1f1f1;\n",
       "}\n",
       "#T_4f18c_row8_col7 {\n",
       "  background-color: #083979;\n",
       "  color: #f1f1f1;\n",
       "}\n",
       "</style>\n",
       "<table id=\"T_4f18c\">\n",
       "  <thead>\n",
       "    <tr>\n",
       "      <th class=\"index_name level0\" >princess</th>\n",
       "      <th id=\"T_4f18c_level0_col0\" class=\"col_heading level0 col0\" >Snow White</th>\n",
       "      <th id=\"T_4f18c_level0_col1\" class=\"col_heading level0 col1\" >Cinderella</th>\n",
       "      <th id=\"T_4f18c_level0_col2\" class=\"col_heading level0 col2\" >Aurora</th>\n",
       "      <th id=\"T_4f18c_level0_col3\" class=\"col_heading level0 col3\" >Ariel</th>\n",
       "      <th id=\"T_4f18c_level0_col4\" class=\"col_heading level0 col4\" >Belle</th>\n",
       "      <th id=\"T_4f18c_level0_col5\" class=\"col_heading level0 col5\" >Jasmine</th>\n",
       "      <th id=\"T_4f18c_level0_col6\" class=\"col_heading level0 col6\" >Pocahontas</th>\n",
       "      <th id=\"T_4f18c_level0_col7\" class=\"col_heading level0 col7\" >Mulan</th>\n",
       "      <th id=\"T_4f18c_level0_col8\" class=\"col_heading level0 col8\" >Tiana</th>\n",
       "      <th id=\"T_4f18c_level0_col9\" class=\"col_heading level0 col9\" >Rapunzel</th>\n",
       "      <th id=\"T_4f18c_level0_col10\" class=\"col_heading level0 col10\" >Merida</th>\n",
       "    </tr>\n",
       "    <tr>\n",
       "      <th class=\"index_name level0\" >princess</th>\n",
       "      <th class=\"blank col0\" >&nbsp;</th>\n",
       "      <th class=\"blank col1\" >&nbsp;</th>\n",
       "      <th class=\"blank col2\" >&nbsp;</th>\n",
       "      <th class=\"blank col3\" >&nbsp;</th>\n",
       "      <th class=\"blank col4\" >&nbsp;</th>\n",
       "      <th class=\"blank col5\" >&nbsp;</th>\n",
       "      <th class=\"blank col6\" >&nbsp;</th>\n",
       "      <th class=\"blank col7\" >&nbsp;</th>\n",
       "      <th class=\"blank col8\" >&nbsp;</th>\n",
       "      <th class=\"blank col9\" >&nbsp;</th>\n",
       "      <th class=\"blank col10\" >&nbsp;</th>\n",
       "    </tr>\n",
       "  </thead>\n",
       "  <tbody>\n",
       "    <tr>\n",
       "      <th id=\"T_4f18c_level0_row0\" class=\"row_heading level0 row0\" >Snow White</th>\n",
       "      <td id=\"T_4f18c_row0_col0\" class=\"data row0 col0\" >0.000000</td>\n",
       "      <td id=\"T_4f18c_row0_col1\" class=\"data row0 col1\" >1.349204</td>\n",
       "      <td id=\"T_4f18c_row0_col2\" class=\"data row0 col2\" >1.375952</td>\n",
       "      <td id=\"T_4f18c_row0_col3\" class=\"data row0 col3\" >1.408711</td>\n",
       "      <td id=\"T_4f18c_row0_col4\" class=\"data row0 col4\" >1.400076</td>\n",
       "      <td id=\"T_4f18c_row0_col5\" class=\"data row0 col5\" >1.408716</td>\n",
       "      <td id=\"T_4f18c_row0_col6\" class=\"data row0 col6\" >1.408390</td>\n",
       "      <td id=\"T_4f18c_row0_col7\" class=\"data row0 col7\" >1.408495</td>\n",
       "      <td id=\"T_4f18c_row0_col8\" class=\"data row0 col8\" >1.398964</td>\n",
       "      <td id=\"T_4f18c_row0_col9\" class=\"data row0 col9\" >1.391161</td>\n",
       "      <td id=\"T_4f18c_row0_col10\" class=\"data row0 col10\" >1.393649</td>\n",
       "    </tr>\n",
       "    <tr>\n",
       "      <th id=\"T_4f18c_level0_row1\" class=\"row_heading level0 row1\" >Cinderella</th>\n",
       "      <td id=\"T_4f18c_row1_col0\" class=\"data row1 col0\" >1.349204</td>\n",
       "      <td id=\"T_4f18c_row1_col1\" class=\"data row1 col1\" >0.000000</td>\n",
       "      <td id=\"T_4f18c_row1_col2\" class=\"data row1 col2\" >1.398689</td>\n",
       "      <td id=\"T_4f18c_row1_col3\" class=\"data row1 col3\" >1.408548</td>\n",
       "      <td id=\"T_4f18c_row1_col4\" class=\"data row1 col4\" >1.407290</td>\n",
       "      <td id=\"T_4f18c_row1_col5\" class=\"data row1 col5\" >1.411802</td>\n",
       "      <td id=\"T_4f18c_row1_col6\" class=\"data row1 col6\" >1.390949</td>\n",
       "      <td id=\"T_4f18c_row1_col7\" class=\"data row1 col7\" >1.407539</td>\n",
       "      <td id=\"T_4f18c_row1_col8\" class=\"data row1 col8\" >1.372281</td>\n",
       "      <td id=\"T_4f18c_row1_col9\" class=\"data row1 col9\" >1.385929</td>\n",
       "      <td id=\"T_4f18c_row1_col10\" class=\"data row1 col10\" >1.352289</td>\n",
       "    </tr>\n",
       "    <tr>\n",
       "      <th id=\"T_4f18c_level0_row2\" class=\"row_heading level0 row2\" >Aurora</th>\n",
       "      <td id=\"T_4f18c_row2_col0\" class=\"data row2 col0\" >1.375952</td>\n",
       "      <td id=\"T_4f18c_row2_col1\" class=\"data row2 col1\" >1.398689</td>\n",
       "      <td id=\"T_4f18c_row2_col2\" class=\"data row2 col2\" >0.000000</td>\n",
       "      <td id=\"T_4f18c_row2_col3\" class=\"data row2 col3\" >1.392005</td>\n",
       "      <td id=\"T_4f18c_row2_col4\" class=\"data row2 col4\" >1.370182</td>\n",
       "      <td id=\"T_4f18c_row2_col5\" class=\"data row2 col5\" >1.383344</td>\n",
       "      <td id=\"T_4f18c_row2_col6\" class=\"data row2 col6\" >1.370994</td>\n",
       "      <td id=\"T_4f18c_row2_col7\" class=\"data row2 col7\" >1.384726</td>\n",
       "      <td id=\"T_4f18c_row2_col8\" class=\"data row2 col8\" >1.352218</td>\n",
       "      <td id=\"T_4f18c_row2_col9\" class=\"data row2 col9\" >1.377012</td>\n",
       "      <td id=\"T_4f18c_row2_col10\" class=\"data row2 col10\" >1.385299</td>\n",
       "    </tr>\n",
       "    <tr>\n",
       "      <th id=\"T_4f18c_level0_row3\" class=\"row_heading level0 row3\" >Ariel</th>\n",
       "      <td id=\"T_4f18c_row3_col0\" class=\"data row3 col0\" >1.408711</td>\n",
       "      <td id=\"T_4f18c_row3_col1\" class=\"data row3 col1\" >1.408548</td>\n",
       "      <td id=\"T_4f18c_row3_col2\" class=\"data row3 col2\" >1.392005</td>\n",
       "      <td id=\"T_4f18c_row3_col3\" class=\"data row3 col3\" >0.000000</td>\n",
       "      <td id=\"T_4f18c_row3_col4\" class=\"data row3 col4\" >1.398550</td>\n",
       "      <td id=\"T_4f18c_row3_col5\" class=\"data row3 col5\" >1.375824</td>\n",
       "      <td id=\"T_4f18c_row3_col6\" class=\"data row3 col6\" >1.410470</td>\n",
       "      <td id=\"T_4f18c_row3_col7\" class=\"data row3 col7\" >1.406457</td>\n",
       "      <td id=\"T_4f18c_row3_col8\" class=\"data row3 col8\" >1.397453</td>\n",
       "      <td id=\"T_4f18c_row3_col9\" class=\"data row3 col9\" >1.368856</td>\n",
       "      <td id=\"T_4f18c_row3_col10\" class=\"data row3 col10\" >1.379941</td>\n",
       "    </tr>\n",
       "    <tr>\n",
       "      <th id=\"T_4f18c_level0_row4\" class=\"row_heading level0 row4\" >Belle</th>\n",
       "      <td id=\"T_4f18c_row4_col0\" class=\"data row4 col0\" >1.400076</td>\n",
       "      <td id=\"T_4f18c_row4_col1\" class=\"data row4 col1\" >1.407290</td>\n",
       "      <td id=\"T_4f18c_row4_col2\" class=\"data row4 col2\" >1.370182</td>\n",
       "      <td id=\"T_4f18c_row4_col3\" class=\"data row4 col3\" >1.398550</td>\n",
       "      <td id=\"T_4f18c_row4_col4\" class=\"data row4 col4\" >0.000000</td>\n",
       "      <td id=\"T_4f18c_row4_col5\" class=\"data row4 col5\" >1.408001</td>\n",
       "      <td id=\"T_4f18c_row4_col6\" class=\"data row4 col6\" >1.414214</td>\n",
       "      <td id=\"T_4f18c_row4_col7\" class=\"data row4 col7\" >1.414214</td>\n",
       "      <td id=\"T_4f18c_row4_col8\" class=\"data row4 col8\" >1.409359</td>\n",
       "      <td id=\"T_4f18c_row4_col9\" class=\"data row4 col9\" >1.414214</td>\n",
       "      <td id=\"T_4f18c_row4_col10\" class=\"data row4 col10\" >1.409200</td>\n",
       "    </tr>\n",
       "    <tr>\n",
       "      <th id=\"T_4f18c_level0_row5\" class=\"row_heading level0 row5\" >Jasmine</th>\n",
       "      <td id=\"T_4f18c_row5_col0\" class=\"data row5 col0\" >1.408716</td>\n",
       "      <td id=\"T_4f18c_row5_col1\" class=\"data row5 col1\" >1.411802</td>\n",
       "      <td id=\"T_4f18c_row5_col2\" class=\"data row5 col2\" >1.383344</td>\n",
       "      <td id=\"T_4f18c_row5_col3\" class=\"data row5 col3\" >1.375824</td>\n",
       "      <td id=\"T_4f18c_row5_col4\" class=\"data row5 col4\" >1.408001</td>\n",
       "      <td id=\"T_4f18c_row5_col5\" class=\"data row5 col5\" >0.000000</td>\n",
       "      <td id=\"T_4f18c_row5_col6\" class=\"data row5 col6\" >1.383141</td>\n",
       "      <td id=\"T_4f18c_row5_col7\" class=\"data row5 col7\" >1.370872</td>\n",
       "      <td id=\"T_4f18c_row5_col8\" class=\"data row5 col8\" >1.364911</td>\n",
       "      <td id=\"T_4f18c_row5_col9\" class=\"data row5 col9\" >1.375690</td>\n",
       "      <td id=\"T_4f18c_row5_col10\" class=\"data row5 col10\" >1.404715</td>\n",
       "    </tr>\n",
       "    <tr>\n",
       "      <th id=\"T_4f18c_level0_row6\" class=\"row_heading level0 row6\" >Pocahontas</th>\n",
       "      <td id=\"T_4f18c_row6_col0\" class=\"data row6 col0\" >1.408390</td>\n",
       "      <td id=\"T_4f18c_row6_col1\" class=\"data row6 col1\" >1.390949</td>\n",
       "      <td id=\"T_4f18c_row6_col2\" class=\"data row6 col2\" >1.370994</td>\n",
       "      <td id=\"T_4f18c_row6_col3\" class=\"data row6 col3\" >1.410470</td>\n",
       "      <td id=\"T_4f18c_row6_col4\" class=\"data row6 col4\" >1.414214</td>\n",
       "      <td id=\"T_4f18c_row6_col5\" class=\"data row6 col5\" >1.383141</td>\n",
       "      <td id=\"T_4f18c_row6_col6\" class=\"data row6 col6\" >0.000000</td>\n",
       "      <td id=\"T_4f18c_row6_col7\" class=\"data row6 col7\" >1.380638</td>\n",
       "      <td id=\"T_4f18c_row6_col8\" class=\"data row6 col8\" >1.374663</td>\n",
       "      <td id=\"T_4f18c_row6_col9\" class=\"data row6 col9\" >1.397104</td>\n",
       "      <td id=\"T_4f18c_row6_col10\" class=\"data row6 col10\" >1.382334</td>\n",
       "    </tr>\n",
       "    <tr>\n",
       "      <th id=\"T_4f18c_level0_row7\" class=\"row_heading level0 row7\" >Mulan</th>\n",
       "      <td id=\"T_4f18c_row7_col0\" class=\"data row7 col0\" >1.408495</td>\n",
       "      <td id=\"T_4f18c_row7_col1\" class=\"data row7 col1\" >1.407539</td>\n",
       "      <td id=\"T_4f18c_row7_col2\" class=\"data row7 col2\" >1.384726</td>\n",
       "      <td id=\"T_4f18c_row7_col3\" class=\"data row7 col3\" >1.406457</td>\n",
       "      <td id=\"T_4f18c_row7_col4\" class=\"data row7 col4\" >1.414214</td>\n",
       "      <td id=\"T_4f18c_row7_col5\" class=\"data row7 col5\" >1.370872</td>\n",
       "      <td id=\"T_4f18c_row7_col6\" class=\"data row7 col6\" >1.380638</td>\n",
       "      <td id=\"T_4f18c_row7_col7\" class=\"data row7 col7\" >0.000000</td>\n",
       "      <td id=\"T_4f18c_row7_col8\" class=\"data row7 col8\" >1.361212</td>\n",
       "      <td id=\"T_4f18c_row7_col9\" class=\"data row7 col9\" >1.403438</td>\n",
       "      <td id=\"T_4f18c_row7_col10\" class=\"data row7 col10\" >1.414214</td>\n",
       "    </tr>\n",
       "    <tr>\n",
       "      <th id=\"T_4f18c_level0_row8\" class=\"row_heading level0 row8\" >Tiana</th>\n",
       "      <td id=\"T_4f18c_row8_col0\" class=\"data row8 col0\" >1.398964</td>\n",
       "      <td id=\"T_4f18c_row8_col1\" class=\"data row8 col1\" >1.372281</td>\n",
       "      <td id=\"T_4f18c_row8_col2\" class=\"data row8 col2\" >1.352218</td>\n",
       "      <td id=\"T_4f18c_row8_col3\" class=\"data row8 col3\" >1.397453</td>\n",
       "      <td id=\"T_4f18c_row8_col4\" class=\"data row8 col4\" >1.409359</td>\n",
       "      <td id=\"T_4f18c_row8_col5\" class=\"data row8 col5\" >1.364911</td>\n",
       "      <td id=\"T_4f18c_row8_col6\" class=\"data row8 col6\" >1.374663</td>\n",
       "      <td id=\"T_4f18c_row8_col7\" class=\"data row8 col7\" >1.361212</td>\n",
       "      <td id=\"T_4f18c_row8_col8\" class=\"data row8 col8\" >0.000000</td>\n",
       "      <td id=\"T_4f18c_row8_col9\" class=\"data row8 col9\" >1.400576</td>\n",
       "      <td id=\"T_4f18c_row8_col10\" class=\"data row8 col10\" >1.406793</td>\n",
       "    </tr>\n",
       "    <tr>\n",
       "      <th id=\"T_4f18c_level0_row9\" class=\"row_heading level0 row9\" >Rapunzel</th>\n",
       "      <td id=\"T_4f18c_row9_col0\" class=\"data row9 col0\" >1.391161</td>\n",
       "      <td id=\"T_4f18c_row9_col1\" class=\"data row9 col1\" >1.385929</td>\n",
       "      <td id=\"T_4f18c_row9_col2\" class=\"data row9 col2\" >1.377012</td>\n",
       "      <td id=\"T_4f18c_row9_col3\" class=\"data row9 col3\" >1.368856</td>\n",
       "      <td id=\"T_4f18c_row9_col4\" class=\"data row9 col4\" >1.414214</td>\n",
       "      <td id=\"T_4f18c_row9_col5\" class=\"data row9 col5\" >1.375690</td>\n",
       "      <td id=\"T_4f18c_row9_col6\" class=\"data row9 col6\" >1.397104</td>\n",
       "      <td id=\"T_4f18c_row9_col7\" class=\"data row9 col7\" >1.403438</td>\n",
       "      <td id=\"T_4f18c_row9_col8\" class=\"data row9 col8\" >1.400576</td>\n",
       "      <td id=\"T_4f18c_row9_col9\" class=\"data row9 col9\" >0.000000</td>\n",
       "      <td id=\"T_4f18c_row9_col10\" class=\"data row9 col10\" >1.353261</td>\n",
       "    </tr>\n",
       "    <tr>\n",
       "      <th id=\"T_4f18c_level0_row10\" class=\"row_heading level0 row10\" >Merida</th>\n",
       "      <td id=\"T_4f18c_row10_col0\" class=\"data row10 col0\" >1.393649</td>\n",
       "      <td id=\"T_4f18c_row10_col1\" class=\"data row10 col1\" >1.352289</td>\n",
       "      <td id=\"T_4f18c_row10_col2\" class=\"data row10 col2\" >1.385299</td>\n",
       "      <td id=\"T_4f18c_row10_col3\" class=\"data row10 col3\" >1.379941</td>\n",
       "      <td id=\"T_4f18c_row10_col4\" class=\"data row10 col4\" >1.409200</td>\n",
       "      <td id=\"T_4f18c_row10_col5\" class=\"data row10 col5\" >1.404715</td>\n",
       "      <td id=\"T_4f18c_row10_col6\" class=\"data row10 col6\" >1.382334</td>\n",
       "      <td id=\"T_4f18c_row10_col7\" class=\"data row10 col7\" >1.414214</td>\n",
       "      <td id=\"T_4f18c_row10_col8\" class=\"data row10 col8\" >1.406793</td>\n",
       "      <td id=\"T_4f18c_row10_col9\" class=\"data row10 col9\" >1.353261</td>\n",
       "      <td id=\"T_4f18c_row10_col10\" class=\"data row10 col10\" >0.000000</td>\n",
       "    </tr>\n",
       "  </tbody>\n",
       "</table>\n"
      ],
      "text/plain": [
       "<pandas.io.formats.style.Styler at 0x336658400>"
      ]
     },
     "execution_count": 9,
     "metadata": {},
     "output_type": "execute_result"
    }
   ],
   "source": [
    "from sklearn.metrics.pairwise import euclidean_distances\n",
    "\n",
    "dist_euc = euclidean_distances(tfidf_matrix.values)\n",
    "dist_euc = pd.DataFrame(dist_euc, columns = df.index, index = df.index)\n",
    "\n",
    "dist_euc.style.background_gradient(cmap='Blues')"
   ]
  },
  {
   "cell_type": "markdown",
   "id": "28018a97",
   "metadata": {
    "slideshow": {
     "slide_type": "notes"
    }
   },
   "source": [
    "import seaborn as sns\n",
    "%matplotlib inline\n",
    "\n",
    "sns.heatmap(dist_euc, annot=True)"
   ]
  },
  {
   "cell_type": "markdown",
   "id": "e9325fc0",
   "metadata": {
    "slideshow": {
     "slide_type": "slide"
    }
   },
   "source": [
    "# Cosine distance\n",
    "\n",
    "<br>\n",
    "<center><img src='img/dist_cos.png' style='height:350px;'>\n",
    "<small>Image credit: R-Bloggers</small></center>"
   ]
  },
  {
   "cell_type": "code",
   "execution_count": 10,
   "id": "b7caf908",
   "metadata": {
    "slideshow": {
     "slide_type": "slide"
    }
   },
   "outputs": [
    {
     "data": {
      "text/html": [
       "<style type=\"text/css\">\n",
       "#T_3084b_row0_col0, #T_3084b_row1_col1, #T_3084b_row2_col2, #T_3084b_row3_col3, #T_3084b_row4_col4, #T_3084b_row5_col5, #T_3084b_row6_col6, #T_3084b_row7_col7, #T_3084b_row8_col8, #T_3084b_row9_col9, #T_3084b_row10_col10 {\n",
       "  background-color: #f7fbff;\n",
       "  color: #000000;\n",
       "}\n",
       "#T_3084b_row0_col1 {\n",
       "  background-color: #08478d;\n",
       "  color: #f1f1f1;\n",
       "}\n",
       "#T_3084b_row0_col2, #T_3084b_row0_col9, #T_3084b_row1_col6 {\n",
       "  background-color: #083877;\n",
       "  color: #f1f1f1;\n",
       "}\n",
       "#T_3084b_row0_col3, #T_3084b_row1_col2, #T_3084b_row1_col3, #T_3084b_row1_col5, #T_3084b_row3_col0, #T_3084b_row4_col6, #T_3084b_row4_col7, #T_3084b_row4_col8, #T_3084b_row4_col9, #T_3084b_row5_col0, #T_3084b_row5_col1, #T_3084b_row6_col0, #T_3084b_row6_col3, #T_3084b_row6_col4, #T_3084b_row7_col0, #T_3084b_row7_col4, #T_3084b_row7_col10, #T_3084b_row9_col4, #T_3084b_row10_col7, #T_3084b_row10_col8 {\n",
       "  background-color: #08306b;\n",
       "  color: #f1f1f1;\n",
       "}\n",
       "#T_3084b_row0_col4, #T_3084b_row3_col4, #T_3084b_row5_col2, #T_3084b_row7_col2, #T_3084b_row10_col0 {\n",
       "  background-color: #083573;\n",
       "  color: #f1f1f1;\n",
       "}\n",
       "#T_3084b_row0_col5, #T_3084b_row3_col1, #T_3084b_row3_col6, #T_3084b_row4_col1, #T_3084b_row4_col5, #T_3084b_row4_col10, #T_3084b_row7_col1, #T_3084b_row7_col3, #T_3084b_row8_col4, #T_3084b_row10_col4 {\n",
       "  background-color: #08316d;\n",
       "  color: #f1f1f1;\n",
       "}\n",
       "#T_3084b_row0_col6, #T_3084b_row0_col7, #T_3084b_row1_col4, #T_3084b_row1_col7, #T_3084b_row3_col2, #T_3084b_row3_col7, #T_3084b_row5_col4, #T_3084b_row8_col10, #T_3084b_row10_col5 {\n",
       "  background-color: #08326e;\n",
       "  color: #f1f1f1;\n",
       "}\n",
       "#T_3084b_row0_col8, #T_3084b_row4_col0, #T_3084b_row5_col10, #T_3084b_row7_col9, #T_3084b_row8_col0, #T_3084b_row9_col7, #T_3084b_row9_col8 {\n",
       "  background-color: #083370;\n",
       "  color: #f1f1f1;\n",
       "}\n",
       "#T_3084b_row0_col10, #T_3084b_row6_col1, #T_3084b_row9_col2 {\n",
       "  background-color: #083776;\n",
       "  color: #f1f1f1;\n",
       "}\n",
       "#T_3084b_row1_col0, #T_3084b_row1_col10, #T_3084b_row9_col10, #T_3084b_row10_col1, #T_3084b_row10_col9 {\n",
       "  background-color: #08468b;\n",
       "  color: #f1f1f1;\n",
       "}\n",
       "#T_3084b_row1_col8, #T_3084b_row2_col9, #T_3084b_row5_col9 {\n",
       "  background-color: #083d7f;\n",
       "  color: #f1f1f1;\n",
       "}\n",
       "#T_3084b_row1_col9, #T_3084b_row2_col5, #T_3084b_row2_col7, #T_3084b_row2_col10, #T_3084b_row4_col2, #T_3084b_row6_col2, #T_3084b_row6_col5, #T_3084b_row10_col3 {\n",
       "  background-color: #083a7a;\n",
       "  color: #f1f1f1;\n",
       "}\n",
       "#T_3084b_row2_col0, #T_3084b_row5_col6, #T_3084b_row6_col10, #T_3084b_row10_col6 {\n",
       "  background-color: #083b7c;\n",
       "  color: #f1f1f1;\n",
       "}\n",
       "#T_3084b_row2_col1, #T_3084b_row3_col8, #T_3084b_row4_col3, #T_3084b_row8_col3, #T_3084b_row8_col9, #T_3084b_row10_col2 {\n",
       "  background-color: #083471;\n",
       "  color: #f1f1f1;\n",
       "}\n",
       "#T_3084b_row2_col3, #T_3084b_row6_col9, #T_3084b_row9_col0, #T_3084b_row9_col6 {\n",
       "  background-color: #083674;\n",
       "  color: #f1f1f1;\n",
       "}\n",
       "#T_3084b_row2_col4, #T_3084b_row2_col6, #T_3084b_row5_col7, #T_3084b_row5_col8 {\n",
       "  background-color: #084082;\n",
       "  color: #f1f1f1;\n",
       "}\n",
       "#T_3084b_row2_col8 {\n",
       "  background-color: #08458a;\n",
       "  color: #f1f1f1;\n",
       "}\n",
       "#T_3084b_row3_col5, #T_3084b_row3_col10, #T_3084b_row5_col3, #T_3084b_row6_col7, #T_3084b_row6_col8, #T_3084b_row7_col6, #T_3084b_row9_col5 {\n",
       "  background-color: #083c7d;\n",
       "  color: #f1f1f1;\n",
       "}\n",
       "#T_3084b_row3_col9, #T_3084b_row8_col2, #T_3084b_row8_col5 {\n",
       "  background-color: #084184;\n",
       "  color: #f1f1f1;\n",
       "}\n",
       "#T_3084b_row7_col5, #T_3084b_row8_col1, #T_3084b_row8_col6, #T_3084b_row9_col3 {\n",
       "  background-color: #083e81;\n",
       "  color: #f1f1f1;\n",
       "}\n",
       "#T_3084b_row7_col8 {\n",
       "  background-color: #084285;\n",
       "  color: #f1f1f1;\n",
       "}\n",
       "#T_3084b_row8_col7 {\n",
       "  background-color: #084387;\n",
       "  color: #f1f1f1;\n",
       "}\n",
       "#T_3084b_row9_col1 {\n",
       "  background-color: #083979;\n",
       "  color: #f1f1f1;\n",
       "}\n",
       "</style>\n",
       "<table id=\"T_3084b\">\n",
       "  <thead>\n",
       "    <tr>\n",
       "      <th class=\"index_name level0\" >princess</th>\n",
       "      <th id=\"T_3084b_level0_col0\" class=\"col_heading level0 col0\" >Snow White</th>\n",
       "      <th id=\"T_3084b_level0_col1\" class=\"col_heading level0 col1\" >Cinderella</th>\n",
       "      <th id=\"T_3084b_level0_col2\" class=\"col_heading level0 col2\" >Aurora</th>\n",
       "      <th id=\"T_3084b_level0_col3\" class=\"col_heading level0 col3\" >Ariel</th>\n",
       "      <th id=\"T_3084b_level0_col4\" class=\"col_heading level0 col4\" >Belle</th>\n",
       "      <th id=\"T_3084b_level0_col5\" class=\"col_heading level0 col5\" >Jasmine</th>\n",
       "      <th id=\"T_3084b_level0_col6\" class=\"col_heading level0 col6\" >Pocahontas</th>\n",
       "      <th id=\"T_3084b_level0_col7\" class=\"col_heading level0 col7\" >Mulan</th>\n",
       "      <th id=\"T_3084b_level0_col8\" class=\"col_heading level0 col8\" >Tiana</th>\n",
       "      <th id=\"T_3084b_level0_col9\" class=\"col_heading level0 col9\" >Rapunzel</th>\n",
       "      <th id=\"T_3084b_level0_col10\" class=\"col_heading level0 col10\" >Merida</th>\n",
       "    </tr>\n",
       "    <tr>\n",
       "      <th class=\"index_name level0\" >princess</th>\n",
       "      <th class=\"blank col0\" >&nbsp;</th>\n",
       "      <th class=\"blank col1\" >&nbsp;</th>\n",
       "      <th class=\"blank col2\" >&nbsp;</th>\n",
       "      <th class=\"blank col3\" >&nbsp;</th>\n",
       "      <th class=\"blank col4\" >&nbsp;</th>\n",
       "      <th class=\"blank col5\" >&nbsp;</th>\n",
       "      <th class=\"blank col6\" >&nbsp;</th>\n",
       "      <th class=\"blank col7\" >&nbsp;</th>\n",
       "      <th class=\"blank col8\" >&nbsp;</th>\n",
       "      <th class=\"blank col9\" >&nbsp;</th>\n",
       "      <th class=\"blank col10\" >&nbsp;</th>\n",
       "    </tr>\n",
       "  </thead>\n",
       "  <tbody>\n",
       "    <tr>\n",
       "      <th id=\"T_3084b_level0_row0\" class=\"row_heading level0 row0\" >Snow White</th>\n",
       "      <td id=\"T_3084b_row0_col0\" class=\"data row0 col0\" >0.000000</td>\n",
       "      <td id=\"T_3084b_row0_col1\" class=\"data row0 col1\" >0.910175</td>\n",
       "      <td id=\"T_3084b_row0_col2\" class=\"data row0 col2\" >0.946622</td>\n",
       "      <td id=\"T_3084b_row0_col3\" class=\"data row0 col3\" >0.992233</td>\n",
       "      <td id=\"T_3084b_row0_col4\" class=\"data row0 col4\" >0.980106</td>\n",
       "      <td id=\"T_3084b_row0_col5\" class=\"data row0 col5\" >0.992241</td>\n",
       "      <td id=\"T_3084b_row0_col6\" class=\"data row0 col6\" >0.991781</td>\n",
       "      <td id=\"T_3084b_row0_col7\" class=\"data row0 col7\" >0.991929</td>\n",
       "      <td id=\"T_3084b_row0_col8\" class=\"data row0 col8\" >0.978550</td>\n",
       "      <td id=\"T_3084b_row0_col9\" class=\"data row0 col9\" >0.967665</td>\n",
       "      <td id=\"T_3084b_row0_col10\" class=\"data row0 col10\" >0.971128</td>\n",
       "    </tr>\n",
       "    <tr>\n",
       "      <th id=\"T_3084b_level0_row1\" class=\"row_heading level0 row1\" >Cinderella</th>\n",
       "      <td id=\"T_3084b_row1_col0\" class=\"data row1 col0\" >0.910175</td>\n",
       "      <td id=\"T_3084b_row1_col1\" class=\"data row1 col1\" >0.000000</td>\n",
       "      <td id=\"T_3084b_row1_col2\" class=\"data row1 col2\" >0.978166</td>\n",
       "      <td id=\"T_3084b_row1_col3\" class=\"data row1 col3\" >0.992003</td>\n",
       "      <td id=\"T_3084b_row1_col4\" class=\"data row1 col4\" >0.990233</td>\n",
       "      <td id=\"T_3084b_row1_col5\" class=\"data row1 col5\" >0.996592</td>\n",
       "      <td id=\"T_3084b_row1_col6\" class=\"data row1 col6\" >0.967370</td>\n",
       "      <td id=\"T_3084b_row1_col7\" class=\"data row1 col7\" >0.990583</td>\n",
       "      <td id=\"T_3084b_row1_col8\" class=\"data row1 col8\" >0.941578</td>\n",
       "      <td id=\"T_3084b_row1_col9\" class=\"data row1 col9\" >0.960400</td>\n",
       "      <td id=\"T_3084b_row1_col10\" class=\"data row1 col10\" >0.914342</td>\n",
       "    </tr>\n",
       "    <tr>\n",
       "      <th id=\"T_3084b_level0_row2\" class=\"row_heading level0 row2\" >Aurora</th>\n",
       "      <td id=\"T_3084b_row2_col0\" class=\"data row2 col0\" >0.946622</td>\n",
       "      <td id=\"T_3084b_row2_col1\" class=\"data row2 col1\" >0.978166</td>\n",
       "      <td id=\"T_3084b_row2_col2\" class=\"data row2 col2\" >0.000000</td>\n",
       "      <td id=\"T_3084b_row2_col3\" class=\"data row2 col3\" >0.968839</td>\n",
       "      <td id=\"T_3084b_row2_col4\" class=\"data row2 col4\" >0.938699</td>\n",
       "      <td id=\"T_3084b_row2_col5\" class=\"data row2 col5\" >0.956820</td>\n",
       "      <td id=\"T_3084b_row2_col6\" class=\"data row2 col6\" >0.939812</td>\n",
       "      <td id=\"T_3084b_row2_col7\" class=\"data row2 col7\" >0.958733</td>\n",
       "      <td id=\"T_3084b_row2_col8\" class=\"data row2 col8\" >0.914247</td>\n",
       "      <td id=\"T_3084b_row2_col9\" class=\"data row2 col9\" >0.948081</td>\n",
       "      <td id=\"T_3084b_row2_col10\" class=\"data row2 col10\" >0.959527</td>\n",
       "    </tr>\n",
       "    <tr>\n",
       "      <th id=\"T_3084b_level0_row3\" class=\"row_heading level0 row3\" >Ariel</th>\n",
       "      <td id=\"T_3084b_row3_col0\" class=\"data row3 col0\" >0.992233</td>\n",
       "      <td id=\"T_3084b_row3_col1\" class=\"data row3 col1\" >0.992003</td>\n",
       "      <td id=\"T_3084b_row3_col2\" class=\"data row3 col2\" >0.968839</td>\n",
       "      <td id=\"T_3084b_row3_col3\" class=\"data row3 col3\" >0.000000</td>\n",
       "      <td id=\"T_3084b_row3_col4\" class=\"data row3 col4\" >0.977972</td>\n",
       "      <td id=\"T_3084b_row3_col5\" class=\"data row3 col5\" >0.946445</td>\n",
       "      <td id=\"T_3084b_row3_col6\" class=\"data row3 col6\" >0.994713</td>\n",
       "      <td id=\"T_3084b_row3_col7\" class=\"data row3 col7\" >0.989060</td>\n",
       "      <td id=\"T_3084b_row3_col8\" class=\"data row3 col8\" >0.976438</td>\n",
       "      <td id=\"T_3084b_row3_col9\" class=\"data row3 col9\" >0.936883</td>\n",
       "      <td id=\"T_3084b_row3_col10\" class=\"data row3 col10\" >0.952119</td>\n",
       "    </tr>\n",
       "    <tr>\n",
       "      <th id=\"T_3084b_level0_row4\" class=\"row_heading level0 row4\" >Belle</th>\n",
       "      <td id=\"T_3084b_row4_col0\" class=\"data row4 col0\" >0.980106</td>\n",
       "      <td id=\"T_3084b_row4_col1\" class=\"data row4 col1\" >0.990233</td>\n",
       "      <td id=\"T_3084b_row4_col2\" class=\"data row4 col2\" >0.938699</td>\n",
       "      <td id=\"T_3084b_row4_col3\" class=\"data row4 col3\" >0.977972</td>\n",
       "      <td id=\"T_3084b_row4_col4\" class=\"data row4 col4\" >0.000000</td>\n",
       "      <td id=\"T_3084b_row4_col5\" class=\"data row4 col5\" >0.991234</td>\n",
       "      <td id=\"T_3084b_row4_col6\" class=\"data row4 col6\" >1.000000</td>\n",
       "      <td id=\"T_3084b_row4_col7\" class=\"data row4 col7\" >1.000000</td>\n",
       "      <td id=\"T_3084b_row4_col8\" class=\"data row4 col8\" >0.993147</td>\n",
       "      <td id=\"T_3084b_row4_col9\" class=\"data row4 col9\" >1.000000</td>\n",
       "      <td id=\"T_3084b_row4_col10\" class=\"data row4 col10\" >0.992922</td>\n",
       "    </tr>\n",
       "    <tr>\n",
       "      <th id=\"T_3084b_level0_row5\" class=\"row_heading level0 row5\" >Jasmine</th>\n",
       "      <td id=\"T_3084b_row5_col0\" class=\"data row5 col0\" >0.992241</td>\n",
       "      <td id=\"T_3084b_row5_col1\" class=\"data row5 col1\" >0.996592</td>\n",
       "      <td id=\"T_3084b_row5_col2\" class=\"data row5 col2\" >0.956820</td>\n",
       "      <td id=\"T_3084b_row5_col3\" class=\"data row5 col3\" >0.946445</td>\n",
       "      <td id=\"T_3084b_row5_col4\" class=\"data row5 col4\" >0.991234</td>\n",
       "      <td id=\"T_3084b_row5_col5\" class=\"data row5 col5\" >0.000000</td>\n",
       "      <td id=\"T_3084b_row5_col6\" class=\"data row5 col6\" >0.956539</td>\n",
       "      <td id=\"T_3084b_row5_col7\" class=\"data row5 col7\" >0.939645</td>\n",
       "      <td id=\"T_3084b_row5_col8\" class=\"data row5 col8\" >0.931491</td>\n",
       "      <td id=\"T_3084b_row5_col9\" class=\"data row5 col9\" >0.946262</td>\n",
       "      <td id=\"T_3084b_row5_col10\" class=\"data row5 col10\" >0.986612</td>\n",
       "    </tr>\n",
       "    <tr>\n",
       "      <th id=\"T_3084b_level0_row6\" class=\"row_heading level0 row6\" >Pocahontas</th>\n",
       "      <td id=\"T_3084b_row6_col0\" class=\"data row6 col0\" >0.991781</td>\n",
       "      <td id=\"T_3084b_row6_col1\" class=\"data row6 col1\" >0.967370</td>\n",
       "      <td id=\"T_3084b_row6_col2\" class=\"data row6 col2\" >0.939812</td>\n",
       "      <td id=\"T_3084b_row6_col3\" class=\"data row6 col3\" >0.994713</td>\n",
       "      <td id=\"T_3084b_row6_col4\" class=\"data row6 col4\" >1.000000</td>\n",
       "      <td id=\"T_3084b_row6_col5\" class=\"data row6 col5\" >0.956539</td>\n",
       "      <td id=\"T_3084b_row6_col6\" class=\"data row6 col6\" >0.000000</td>\n",
       "      <td id=\"T_3084b_row6_col7\" class=\"data row6 col7\" >0.953081</td>\n",
       "      <td id=\"T_3084b_row6_col8\" class=\"data row6 col8\" >0.944849</td>\n",
       "      <td id=\"T_3084b_row6_col9\" class=\"data row6 col9\" >0.975949</td>\n",
       "      <td id=\"T_3084b_row6_col10\" class=\"data row6 col10\" >0.955423</td>\n",
       "    </tr>\n",
       "    <tr>\n",
       "      <th id=\"T_3084b_level0_row7\" class=\"row_heading level0 row7\" >Mulan</th>\n",
       "      <td id=\"T_3084b_row7_col0\" class=\"data row7 col0\" >0.991929</td>\n",
       "      <td id=\"T_3084b_row7_col1\" class=\"data row7 col1\" >0.990583</td>\n",
       "      <td id=\"T_3084b_row7_col2\" class=\"data row7 col2\" >0.958733</td>\n",
       "      <td id=\"T_3084b_row7_col3\" class=\"data row7 col3\" >0.989060</td>\n",
       "      <td id=\"T_3084b_row7_col4\" class=\"data row7 col4\" >1.000000</td>\n",
       "      <td id=\"T_3084b_row7_col5\" class=\"data row7 col5\" >0.939645</td>\n",
       "      <td id=\"T_3084b_row7_col6\" class=\"data row7 col6\" >0.953081</td>\n",
       "      <td id=\"T_3084b_row7_col7\" class=\"data row7 col7\" >0.000000</td>\n",
       "      <td id=\"T_3084b_row7_col8\" class=\"data row7 col8\" >0.926449</td>\n",
       "      <td id=\"T_3084b_row7_col9\" class=\"data row7 col9\" >0.984819</td>\n",
       "      <td id=\"T_3084b_row7_col10\" class=\"data row7 col10\" >1.000000</td>\n",
       "    </tr>\n",
       "    <tr>\n",
       "      <th id=\"T_3084b_level0_row8\" class=\"row_heading level0 row8\" >Tiana</th>\n",
       "      <td id=\"T_3084b_row8_col0\" class=\"data row8 col0\" >0.978550</td>\n",
       "      <td id=\"T_3084b_row8_col1\" class=\"data row8 col1\" >0.941578</td>\n",
       "      <td id=\"T_3084b_row8_col2\" class=\"data row8 col2\" >0.914247</td>\n",
       "      <td id=\"T_3084b_row8_col3\" class=\"data row8 col3\" >0.976438</td>\n",
       "      <td id=\"T_3084b_row8_col4\" class=\"data row8 col4\" >0.993147</td>\n",
       "      <td id=\"T_3084b_row8_col5\" class=\"data row8 col5\" >0.931491</td>\n",
       "      <td id=\"T_3084b_row8_col6\" class=\"data row8 col6\" >0.944849</td>\n",
       "      <td id=\"T_3084b_row8_col7\" class=\"data row8 col7\" >0.926449</td>\n",
       "      <td id=\"T_3084b_row8_col8\" class=\"data row8 col8\" >0.000000</td>\n",
       "      <td id=\"T_3084b_row8_col9\" class=\"data row8 col9\" >0.980807</td>\n",
       "      <td id=\"T_3084b_row8_col10\" class=\"data row8 col10\" >0.989534</td>\n",
       "    </tr>\n",
       "    <tr>\n",
       "      <th id=\"T_3084b_level0_row9\" class=\"row_heading level0 row9\" >Rapunzel</th>\n",
       "      <td id=\"T_3084b_row9_col0\" class=\"data row9 col0\" >0.967665</td>\n",
       "      <td id=\"T_3084b_row9_col1\" class=\"data row9 col1\" >0.960400</td>\n",
       "      <td id=\"T_3084b_row9_col2\" class=\"data row9 col2\" >0.948081</td>\n",
       "      <td id=\"T_3084b_row9_col3\" class=\"data row9 col3\" >0.936883</td>\n",
       "      <td id=\"T_3084b_row9_col4\" class=\"data row9 col4\" >1.000000</td>\n",
       "      <td id=\"T_3084b_row9_col5\" class=\"data row9 col5\" >0.946262</td>\n",
       "      <td id=\"T_3084b_row9_col6\" class=\"data row9 col6\" >0.975949</td>\n",
       "      <td id=\"T_3084b_row9_col7\" class=\"data row9 col7\" >0.984819</td>\n",
       "      <td id=\"T_3084b_row9_col8\" class=\"data row9 col8\" >0.980807</td>\n",
       "      <td id=\"T_3084b_row9_col9\" class=\"data row9 col9\" >0.000000</td>\n",
       "      <td id=\"T_3084b_row9_col10\" class=\"data row9 col10\" >0.915658</td>\n",
       "    </tr>\n",
       "    <tr>\n",
       "      <th id=\"T_3084b_level0_row10\" class=\"row_heading level0 row10\" >Merida</th>\n",
       "      <td id=\"T_3084b_row10_col0\" class=\"data row10 col0\" >0.971128</td>\n",
       "      <td id=\"T_3084b_row10_col1\" class=\"data row10 col1\" >0.914342</td>\n",
       "      <td id=\"T_3084b_row10_col2\" class=\"data row10 col2\" >0.959527</td>\n",
       "      <td id=\"T_3084b_row10_col3\" class=\"data row10 col3\" >0.952119</td>\n",
       "      <td id=\"T_3084b_row10_col4\" class=\"data row10 col4\" >0.992922</td>\n",
       "      <td id=\"T_3084b_row10_col5\" class=\"data row10 col5\" >0.986612</td>\n",
       "      <td id=\"T_3084b_row10_col6\" class=\"data row10 col6\" >0.955423</td>\n",
       "      <td id=\"T_3084b_row10_col7\" class=\"data row10 col7\" >1.000000</td>\n",
       "      <td id=\"T_3084b_row10_col8\" class=\"data row10 col8\" >0.989534</td>\n",
       "      <td id=\"T_3084b_row10_col9\" class=\"data row10 col9\" >0.915658</td>\n",
       "      <td id=\"T_3084b_row10_col10\" class=\"data row10 col10\" >0.000000</td>\n",
       "    </tr>\n",
       "  </tbody>\n",
       "</table>\n"
      ],
      "text/plain": [
       "<pandas.io.formats.style.Styler at 0x336658cd0>"
      ]
     },
     "execution_count": 10,
     "metadata": {},
     "output_type": "execute_result"
    }
   ],
   "source": [
    "from sklearn.metrics.pairwise import cosine_distances\n",
    "\n",
    "dist_cos = cosine_distances(tfidf_matrix.values)\n",
    "dist_cos = pd.DataFrame(dist_cos, columns = df.index, index = df.index)\n",
    "dist_cos.style.background_gradient(cmap='Blues')"
   ]
  },
  {
   "cell_type": "markdown",
   "id": "54c2a4bb",
   "metadata": {
    "slideshow": {
     "slide_type": "slide"
    }
   },
   "source": [
    "# ⏪ Today's recap\n",
    "\n",
    "- Vectorial representation of texts\n",
    "    - Bag of Words\n",
    "    - TF-IDF\n",
    "- Distance metrics\n",
    "    - Euclidean distance\n",
    "    - Cosine distance"
   ]
  },
  {
   "cell_type": "markdown",
   "id": "c3c47662",
   "metadata": {
    "slideshow": {
     "slide_type": "slide"
    }
   },
   "source": [
    "# Next class: Word2Vec"
   ]
  }
 ],
 "metadata": {
  "celltoolbar": "Slideshow",
  "kernelspec": {
   "display_name": "Python 3 (ipykernel)",
   "language": "python",
   "name": "python3"
  },
  "language_info": {
   "codemirror_mode": {
    "name": "ipython",
    "version": 3
   },
   "file_extension": ".py",
   "mimetype": "text/x-python",
   "name": "python",
   "nbconvert_exporter": "python",
   "pygments_lexer": "ipython3",
   "version": "3.10.13"
  }
 },
 "nbformat": 4,
 "nbformat_minor": 5
}
