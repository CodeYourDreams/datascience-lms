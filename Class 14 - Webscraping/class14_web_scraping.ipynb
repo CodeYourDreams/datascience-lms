{
 "cells": [
  {
   "cell_type": "markdown",
   "id": "843e46f7",
   "metadata": {
    "slideshow": {
     "slide_type": "slide"
    }
   },
   "source": [
    "<center><img src='img/cdy.png' style='width:500px; float: left; margin: 0px 30px 15px 0px'></center>\n",
    "\n",
    "# Data Acquisition & Web Scraping\n",
    "## Class 15 - Data Science Curriculum \n",
    "\n"
   ]
  },
  {
   "cell_type": "markdown",
   "id": "48500da2",
   "metadata": {
    "slideshow": {
     "slide_type": "slide"
    }
   },
   "source": [
    "# ⏪ Recap last class\n",
    "\n",
    "- data science pipeline\n",
    "- how to read: .csv, .txt, .json"
   ]
  },
  {
   "cell_type": "markdown",
   "id": "82476939",
   "metadata": {
    "slideshow": {
     "slide_type": "slide"
    }
   },
   "source": [
    "# 🚀 Today's agenda\n",
    "\n",
    "- open source data\n",
    "- webscraping with beautiful soup"
   ]
  },
  {
   "cell_type": "markdown",
   "id": "89f5697d",
   "metadata": {
    "slideshow": {
     "slide_type": "slide"
    }
   },
   "source": [
    "## Roadmap: Life of a ML model\n",
    "\n",
    "<br>\n",
    "<center>\n",
    "<img src='img/pipeline.png' style='height:500px;'>\n",
    "</center>"
   ]
  },
  {
   "cell_type": "markdown",
   "id": "0b52be3a",
   "metadata": {
    "slideshow": {
     "slide_type": "slide"
    }
   },
   "source": [
    "# 👷🏽‍♀️ Where to get data?"
   ]
  },
  {
   "cell_type": "markdown",
   "id": "825ff190",
   "metadata": {
    "slideshow": {
     "slide_type": "slide"
    }
   },
   "source": [
    "## Open source data"
   ]
  },
  {
   "cell_type": "markdown",
   "id": "f70af914",
   "metadata": {
    "slideshow": {
     "slide_type": "slide"
    }
   },
   "source": [
    "#### Open data repositories:\n",
    "\n",
    "- OpenML.org (https://openml.org)\n",
    "- Kaggle.com (https://kaggle.com/datasets)\n",
    "- PapersWithCode.com (https://paperswithcode.com/datasets)\n",
    "- UC Irvine Machine Learning Repository (https://archive.ics.uci.edu/ml)\n",
    "- Amazon's AWS datasets (https://registry.opendata.aws)\n",
    "- TensorFlow datasets (https://tensorflow.org/datasets)\n",
    "- Google's data search engine: (https://datasetsearch.research.google.com/)"
   ]
  },
  {
   "cell_type": "markdown",
   "id": "d26944df",
   "metadata": {
    "slideshow": {
     "slide_type": "slide"
    }
   },
   "source": [
    "#### Meta portals and other pages listing datasets:\n",
    "\n",
    "- DataPortals.org (https://dataportals.org/)\n",
    "- OpenDataMonitor.eu (https://opendatamonitor.eu/frontend/web/index.php?r=dashboard%2Findex)\n",
    "- Wikipedia's list of machine learning datasets (https://en.wikipedia.org/wiki/List_of_datasets_for_machine-learning_research)\n",
    "- Quora's list (https://www.quora.com/Where-can-I-find-large-datasets-open-to-the-public)\n",
    "- Reddit's dataset (https://www.reddit.com/r/datasets)\n",
    "- GitHub * (https://github.com/)"
   ]
  },
  {
   "cell_type": "markdown",
   "id": "a59478aa",
   "metadata": {
    "slideshow": {
     "slide_type": "slide"
    }
   },
   "source": [
    "#### Location specific:\n",
    "\n",
    "- San Francisco Open Data (https://datasf.org/opendata/)\n",
    "- NYC Open Data (https://opendata.cityofnewyork.us/)\n",
    "- \"city\" + Open Data"
   ]
  },
  {
   "cell_type": "markdown",
   "id": "c3fc5016",
   "metadata": {
    "slideshow": {
     "slide_type": "slide"
    }
   },
   "source": [
    "# 👷🏽‍♀️ Other ways of getting data"
   ]
  },
  {
   "cell_type": "markdown",
   "id": "ad0fa7b4",
   "metadata": {
    "slideshow": {
     "slide_type": "fragment"
    }
   },
   "source": [
    "- Request your own data: Twitter, Facebook, WhatsApp, etc.\n",
    "- Use APIs (Application Programming Interface)\n",
    "- Web scraping\n",
    "    - BeautifulSoup: Library for parsing HTML and XML documents\n",
    "    - Selenium: Web browser automation tool"
   ]
  },
  {
   "cell_type": "markdown",
   "id": "c5b3ce6b",
   "metadata": {
    "slideshow": {
     "slide_type": "slide"
    }
   },
   "source": [
    "# ❇️ Web scraping with Beautiful Soup"
   ]
  },
  {
   "cell_type": "markdown",
   "id": "f9155b1a",
   "metadata": {
    "slideshow": {
     "slide_type": "slide"
    }
   },
   "source": [
    "# Web scraping\n",
    "\n",
    "- Extract data from web pages, usually HTML\n",
    "- ⚠️ Read web page usage rules and/or rotate proxies, simulate human behavior\n",
    "- Another way to do more sophisticated scraping is with Selenium. More info [here](https://www.scrapingbee.com/blog/selenium-python/).\n",
    "- Today we are going to use BeautifulSoup `pip install beautifulsoup4`"
   ]
  },
  {
   "cell_type": "code",
   "execution_count": 1,
   "id": "2501ca21",
   "metadata": {
    "slideshow": {
     "slide_type": "slide"
    }
   },
   "outputs": [
    {
     "name": "stdout",
     "output_type": "stream",
     "text": [
      "Requirement already satisfied: beautifulsoup4 in /Users/vivianamarquez/opt/anaconda3/lib/python3.9/site-packages (4.11.1)\r\n",
      "Requirement already satisfied: soupsieve>1.2 in /Users/vivianamarquez/opt/anaconda3/lib/python3.9/site-packages (from beautifulsoup4) (2.3.1)\r\n"
     ]
    }
   ],
   "source": [
    "! pip install beautifulsoup4"
   ]
  },
  {
   "cell_type": "markdown",
   "id": "81458a55",
   "metadata": {
    "slideshow": {
     "slide_type": "slide"
    }
   },
   "source": [
    "# Quick HTML review \n",
    "\n",
    "An HTML document has tags which allow to differentiate the parts of the file.\n",
    "\n",
    "The most common/useful are:\n",
    "\n",
    "- `<div>` Page division\n",
    "- `<p>` Paragraph\n",
    "- `<a href>` Links\n",
    "- `<b>`, `<i>` ... Font formatting"
   ]
  },
  {
   "cell_type": "markdown",
   "id": "f3ffb679",
   "metadata": {
    "slideshow": {
     "slide_type": "slide"
    }
   },
   "source": [
    "## Parts of an HTML tag\n",
    "<br>\n",
    "<center>\n",
    "<img src='img/html-element.png' style='height:300px;'>\n",
    "</center>"
   ]
  },
  {
   "cell_type": "markdown",
   "id": "14e1fb9c",
   "metadata": {
    "slideshow": {
     "slide_type": "slide"
    }
   },
   "source": [
    "## Exercise \n",
    "\n",
    "Please name the parts of the following HTML tag\n",
    "\n",
    "\n",
    "# `<a href=\"http://www.google.com/\" id=\"search\">Google</a>`"
   ]
  },
  {
   "cell_type": "markdown",
   "id": "c90ef344",
   "metadata": {
    "slideshow": {
     "slide_type": "slide"
    }
   },
   "source": [
    "## Requests & Beautiful Soup\n",
    "\n",
    "- **Requests** allows you to download webpages using Python\n",
    "- **Beautiful Soup** allows you to parse the contents of a webpage \n",
    "\n",
    "    - `find()`: Returns the first tag\n",
    "    - `find_all()`: Returns all tags\n",
    "    - `children`: List of the nested tags \n"
   ]
  },
  {
   "cell_type": "code",
   "execution_count": 2,
   "id": "94ca5ec8",
   "metadata": {
    "slideshow": {
     "slide_type": "slide"
    }
   },
   "outputs": [],
   "source": [
    "import urllib.request"
   ]
  },
  {
   "cell_type": "code",
   "execution_count": 3,
   "id": "2e14d5d0",
   "metadata": {
    "slideshow": {
     "slide_type": "slide"
    }
   },
   "outputs": [],
   "source": [
    "link = 'https://en.wikipedia.org/wiki/Burundi'"
   ]
  },
  {
   "cell_type": "code",
   "execution_count": 4,
   "id": "60879b54",
   "metadata": {
    "slideshow": {
     "slide_type": "slide"
    }
   },
   "outputs": [],
   "source": [
    "request = urllib.request.Request(link, headers={'User-Agent': 'Mozilla/5.0'})\n",
    "webpage = urllib.request.urlopen(request)\n",
    "source = webpage.read()\n",
    "webpage.close()"
   ]
  },
  {
   "cell_type": "code",
   "execution_count": null,
   "id": "fbe81fca",
   "metadata": {
    "slideshow": {
     "slide_type": "slide"
    }
   },
   "outputs": [],
   "source": [
    "source"
   ]
  },
  {
   "cell_type": "code",
   "execution_count": 7,
   "id": "cdaaa492",
   "metadata": {
    "slideshow": {
     "slide_type": "slide"
    }
   },
   "outputs": [],
   "source": [
    "import bs4 as bs\n",
    "soup = bs.BeautifulSoup(source, 'html.parser')"
   ]
  },
  {
   "cell_type": "code",
   "execution_count": 10,
   "id": "85b4685d",
   "metadata": {
    "slideshow": {
     "slide_type": "fragment"
    }
   },
   "outputs": [
    {
     "data": {
      "text/plain": [
       "'Burundi'"
      ]
     },
     "execution_count": 10,
     "metadata": {},
     "output_type": "execute_result"
    }
   ],
   "source": [
    "soup.find(\"h1\").text"
   ]
  },
  {
   "cell_type": "code",
   "execution_count": 12,
   "id": "fc773412",
   "metadata": {
    "slideshow": {
     "slide_type": "fragment"
    }
   },
   "outputs": [
    {
     "data": {
      "text/plain": [
       "'Republic of Burundi'"
      ]
     },
     "execution_count": 12,
     "metadata": {},
     "output_type": "execute_result"
    }
   ],
   "source": [
    "soup.find(class_=\"fn org country-name\").text"
   ]
  },
  {
   "cell_type": "code",
   "execution_count": 17,
   "id": "e3f4292e",
   "metadata": {
    "slideshow": {
     "slide_type": "fragment"
    }
   },
   "outputs": [
    {
     "name": "stdout",
     "output_type": "stream",
     "text": [
      "Republic of BurundiRepuburika y’Uburundi (Kirundi)République du Burundi (French)\n"
     ]
    }
   ],
   "source": [
    "print(soup.find('table').find_all('tr')[0].text)"
   ]
  },
  {
   "cell_type": "markdown",
   "id": "54c2a4bb",
   "metadata": {
    "slideshow": {
     "slide_type": "slide"
    }
   },
   "source": [
    "# ⏪ Today's recap\n",
    "\n",
    "- open source data\n",
    "- webscraping with beautiful soup"
   ]
  },
  {
   "cell_type": "markdown",
   "id": "c3c47662",
   "metadata": {
    "slideshow": {
     "slide_type": "slide"
    }
   },
   "source": [
    "# Next class: Natural Language Processing"
   ]
  }
 ],
 "metadata": {
  "celltoolbar": "Slideshow",
  "kernelspec": {
   "display_name": "Python 3 (ipykernel)",
   "language": "python",
   "name": "python3"
  },
  "language_info": {
   "codemirror_mode": {
    "name": "ipython",
    "version": 3
   },
   "file_extension": ".py",
   "mimetype": "text/x-python",
   "name": "python",
   "nbconvert_exporter": "python",
   "pygments_lexer": "ipython3",
   "version": "3.10.13"
  }
 },
 "nbformat": 4,
 "nbformat_minor": 5
}
